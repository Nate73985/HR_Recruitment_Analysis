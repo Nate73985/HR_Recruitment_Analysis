{
 "cells": [
  {
   "cell_type": "code",
   "execution_count": 15,
   "id": "11874a57",
   "metadata": {},
   "outputs": [],
   "source": [
    "import warnings\n",
    "warnings.filterwarnings('ignore')"
   ]
  },
  {
   "cell_type": "code",
   "execution_count": 1,
   "id": "ae5af2b3",
   "metadata": {},
   "outputs": [],
   "source": [
    "import support as support"
   ]
  },
  {
   "cell_type": "code",
   "execution_count": 2,
   "id": "a0c2b6cc",
   "metadata": {},
   "outputs": [],
   "source": [
    "df_train_s3 = support.read_from_s3(\"hr_train_data\",\"hranalyticsdata/new\")"
   ]
  },
  {
   "cell_type": "code",
   "execution_count": 3,
   "id": "943545d6",
   "metadata": {
    "scrolled": true
   },
   "outputs": [
    {
     "data": {
      "text/html": [
       "<div>\n",
       "<style scoped>\n",
       "    .dataframe tbody tr th:only-of-type {\n",
       "        vertical-align: middle;\n",
       "    }\n",
       "\n",
       "    .dataframe tbody tr th {\n",
       "        vertical-align: top;\n",
       "    }\n",
       "\n",
       "    .dataframe thead th {\n",
       "        text-align: right;\n",
       "    }\n",
       "</style>\n",
       "<table border=\"1\" class=\"dataframe\">\n",
       "  <thead>\n",
       "    <tr style=\"text-align: right;\">\n",
       "      <th></th>\n",
       "      <th>enrollee_id</th>\n",
       "      <th>city</th>\n",
       "      <th>city_development_index</th>\n",
       "      <th>gender</th>\n",
       "      <th>relevent_experience</th>\n",
       "      <th>enrolled_university</th>\n",
       "      <th>education_level</th>\n",
       "      <th>major_discipline</th>\n",
       "      <th>experience</th>\n",
       "      <th>company_size</th>\n",
       "      <th>company_type</th>\n",
       "      <th>last_new_job</th>\n",
       "      <th>training_hours</th>\n",
       "      <th>target</th>\n",
       "    </tr>\n",
       "  </thead>\n",
       "  <tbody>\n",
       "    <tr>\n",
       "      <th>0</th>\n",
       "      <td>8949</td>\n",
       "      <td>city_103</td>\n",
       "      <td>0.920</td>\n",
       "      <td>Male</td>\n",
       "      <td>Has relevent experience</td>\n",
       "      <td>no_enrollment</td>\n",
       "      <td>Graduate</td>\n",
       "      <td>STEM</td>\n",
       "      <td>&gt;20</td>\n",
       "      <td>NaN</td>\n",
       "      <td>NaN</td>\n",
       "      <td>1</td>\n",
       "      <td>36</td>\n",
       "      <td>1.0</td>\n",
       "    </tr>\n",
       "    <tr>\n",
       "      <th>1</th>\n",
       "      <td>29725</td>\n",
       "      <td>city_40</td>\n",
       "      <td>0.776</td>\n",
       "      <td>Male</td>\n",
       "      <td>No relevent experience</td>\n",
       "      <td>no_enrollment</td>\n",
       "      <td>Graduate</td>\n",
       "      <td>STEM</td>\n",
       "      <td>15</td>\n",
       "      <td>50-99</td>\n",
       "      <td>Pvt Ltd</td>\n",
       "      <td>&gt;4</td>\n",
       "      <td>47</td>\n",
       "      <td>0.0</td>\n",
       "    </tr>\n",
       "  </tbody>\n",
       "</table>\n",
       "</div>"
      ],
      "text/plain": [
       "   enrollee_id      city  city_development_index gender  \\\n",
       "0         8949  city_103                   0.920   Male   \n",
       "1        29725   city_40                   0.776   Male   \n",
       "\n",
       "       relevent_experience enrolled_university education_level  \\\n",
       "0  Has relevent experience       no_enrollment        Graduate   \n",
       "1   No relevent experience       no_enrollment        Graduate   \n",
       "\n",
       "  major_discipline experience company_size company_type last_new_job  \\\n",
       "0             STEM        >20          NaN          NaN            1   \n",
       "1             STEM         15        50-99      Pvt Ltd           >4   \n",
       "\n",
       "   training_hours  target  \n",
       "0              36     1.0  \n",
       "1              47     0.0  "
      ]
     },
     "execution_count": 3,
     "metadata": {},
     "output_type": "execute_result"
    }
   ],
   "source": [
    "df_train = df_train_s3.copy()\n",
    "df_train.head(2)"
   ]
  },
  {
   "cell_type": "code",
   "execution_count": 4,
   "id": "07a9906c",
   "metadata": {},
   "outputs": [
    {
     "name": "stdout",
     "output_type": "stream",
     "text": [
      "Train data: (19158, 14)\n"
     ]
    }
   ],
   "source": [
    "print ('Train data:',df_train.shape)"
   ]
  },
  {
   "cell_type": "code",
   "execution_count": 5,
   "id": "754ce3cd",
   "metadata": {},
   "outputs": [
    {
     "name": "stdout",
     "output_type": "stream",
     "text": [
      "<class 'pandas.core.frame.DataFrame'>\n",
      "RangeIndex: 19158 entries, 0 to 19157\n",
      "Data columns (total 14 columns):\n",
      " #   Column                  Non-Null Count  Dtype  \n",
      "---  ------                  --------------  -----  \n",
      " 0   enrollee_id             19158 non-null  int64  \n",
      " 1   city                    19158 non-null  object \n",
      " 2   city_development_index  19158 non-null  float64\n",
      " 3   gender                  14650 non-null  object \n",
      " 4   relevent_experience     19158 non-null  object \n",
      " 5   enrolled_university     18772 non-null  object \n",
      " 6   education_level         18698 non-null  object \n",
      " 7   major_discipline        16345 non-null  object \n",
      " 8   experience              19093 non-null  object \n",
      " 9   company_size            13220 non-null  object \n",
      " 10  company_type            13018 non-null  object \n",
      " 11  last_new_job            18735 non-null  object \n",
      " 12  training_hours          19158 non-null  int64  \n",
      " 13  target                  19158 non-null  float64\n",
      "dtypes: float64(2), int64(2), object(10)\n",
      "memory usage: 2.0+ MB\n"
     ]
    }
   ],
   "source": [
    "df_train.info()"
   ]
  },
  {
   "cell_type": "code",
   "execution_count": 6,
   "id": "539f2384",
   "metadata": {},
   "outputs": [
    {
     "data": {
      "text/plain": [
       "array(['>20', '15', '5', '<1', '11', '13', '7', '17', '2', '16', '1', '4',\n",
       "       '10', '14', '18', '19', '12', '3', '6', '9', '8', '20', nan],\n",
       "      dtype=object)"
      ]
     },
     "execution_count": 6,
     "metadata": {},
     "output_type": "execute_result"
    }
   ],
   "source": [
    " df_train['experience'].unique()"
   ]
  },
  {
   "cell_type": "code",
   "execution_count": 7,
   "id": "cc4cd412",
   "metadata": {},
   "outputs": [
    {
     "data": {
      "text/plain": [
       "array([nan, '50-99', '<10', '10000+', '5000-9999', '1000-4999', '10/49',\n",
       "       '100-500', '500-999'], dtype=object)"
      ]
     },
     "execution_count": 7,
     "metadata": {},
     "output_type": "execute_result"
    }
   ],
   "source": [
    "df_train['company_size'].unique()"
   ]
  },
  {
   "cell_type": "code",
   "execution_count": 8,
   "id": "eda6179f",
   "metadata": {},
   "outputs": [
    {
     "data": {
      "text/html": [
       "<div>\n",
       "<style scoped>\n",
       "    .dataframe tbody tr th:only-of-type {\n",
       "        vertical-align: middle;\n",
       "    }\n",
       "\n",
       "    .dataframe tbody tr th {\n",
       "        vertical-align: top;\n",
       "    }\n",
       "\n",
       "    .dataframe thead th {\n",
       "        text-align: right;\n",
       "    }\n",
       "</style>\n",
       "<table border=\"1\" class=\"dataframe\">\n",
       "  <thead>\n",
       "    <tr style=\"text-align: right;\">\n",
       "      <th></th>\n",
       "      <th></th>\n",
       "      <th>enrollee_id</th>\n",
       "      <th>city</th>\n",
       "      <th>city_development_index</th>\n",
       "      <th>gender</th>\n",
       "      <th>relevent_experience</th>\n",
       "      <th>major_discipline</th>\n",
       "      <th>experience</th>\n",
       "      <th>company_size</th>\n",
       "      <th>company_type</th>\n",
       "      <th>last_new_job</th>\n",
       "      <th>training_hours</th>\n",
       "      <th>target</th>\n",
       "    </tr>\n",
       "    <tr>\n",
       "      <th>education_level</th>\n",
       "      <th>enrolled_university</th>\n",
       "      <th></th>\n",
       "      <th></th>\n",
       "      <th></th>\n",
       "      <th></th>\n",
       "      <th></th>\n",
       "      <th></th>\n",
       "      <th></th>\n",
       "      <th></th>\n",
       "      <th></th>\n",
       "      <th></th>\n",
       "      <th></th>\n",
       "      <th></th>\n",
       "    </tr>\n",
       "  </thead>\n",
       "  <tbody>\n",
       "    <tr>\n",
       "      <th rowspan=\"3\" valign=\"top\">Graduate</th>\n",
       "      <th>Full time course</th>\n",
       "      <td>2209</td>\n",
       "      <td>2209</td>\n",
       "      <td>2209</td>\n",
       "      <td>1501</td>\n",
       "      <td>2209</td>\n",
       "      <td>2200</td>\n",
       "      <td>2195</td>\n",
       "      <td>1040</td>\n",
       "      <td>1073</td>\n",
       "      <td>2107</td>\n",
       "      <td>2209</td>\n",
       "      <td>2209</td>\n",
       "    </tr>\n",
       "    <tr>\n",
       "      <th>Part time course</th>\n",
       "      <td>784</td>\n",
       "      <td>784</td>\n",
       "      <td>784</td>\n",
       "      <td>593</td>\n",
       "      <td>784</td>\n",
       "      <td>784</td>\n",
       "      <td>784</td>\n",
       "      <td>587</td>\n",
       "      <td>571</td>\n",
       "      <td>766</td>\n",
       "      <td>784</td>\n",
       "      <td>784</td>\n",
       "    </tr>\n",
       "    <tr>\n",
       "      <th>no_enrollment</th>\n",
       "      <td>8434</td>\n",
       "      <td>8434</td>\n",
       "      <td>8434</td>\n",
       "      <td>6835</td>\n",
       "      <td>8434</td>\n",
       "      <td>8422</td>\n",
       "      <td>8418</td>\n",
       "      <td>6705</td>\n",
       "      <td>6511</td>\n",
       "      <td>8335</td>\n",
       "      <td>8434</td>\n",
       "      <td>8434</td>\n",
       "    </tr>\n",
       "    <tr>\n",
       "      <th rowspan=\"3\" valign=\"top\">High School</th>\n",
       "      <th>Full time course</th>\n",
       "      <td>864</td>\n",
       "      <td>864</td>\n",
       "      <td>864</td>\n",
       "      <td>644</td>\n",
       "      <td>864</td>\n",
       "      <td>0</td>\n",
       "      <td>864</td>\n",
       "      <td>252</td>\n",
       "      <td>281</td>\n",
       "      <td>833</td>\n",
       "      <td>864</td>\n",
       "      <td>864</td>\n",
       "    </tr>\n",
       "    <tr>\n",
       "      <th>Part time course</th>\n",
       "      <td>166</td>\n",
       "      <td>166</td>\n",
       "      <td>166</td>\n",
       "      <td>123</td>\n",
       "      <td>166</td>\n",
       "      <td>0</td>\n",
       "      <td>165</td>\n",
       "      <td>112</td>\n",
       "      <td>106</td>\n",
       "      <td>160</td>\n",
       "      <td>166</td>\n",
       "      <td>166</td>\n",
       "    </tr>\n",
       "    <tr>\n",
       "      <th>no_enrollment</th>\n",
       "      <td>940</td>\n",
       "      <td>940</td>\n",
       "      <td>940</td>\n",
       "      <td>701</td>\n",
       "      <td>940</td>\n",
       "      <td>0</td>\n",
       "      <td>938</td>\n",
       "      <td>483</td>\n",
       "      <td>502</td>\n",
       "      <td>916</td>\n",
       "      <td>940</td>\n",
       "      <td>940</td>\n",
       "    </tr>\n",
       "    <tr>\n",
       "      <th rowspan=\"3\" valign=\"top\">Masters</th>\n",
       "      <th>Full time course</th>\n",
       "      <td>557</td>\n",
       "      <td>557</td>\n",
       "      <td>557</td>\n",
       "      <td>366</td>\n",
       "      <td>557</td>\n",
       "      <td>556</td>\n",
       "      <td>556</td>\n",
       "      <td>328</td>\n",
       "      <td>345</td>\n",
       "      <td>534</td>\n",
       "      <td>557</td>\n",
       "      <td>557</td>\n",
       "    </tr>\n",
       "    <tr>\n",
       "      <th>Part time course</th>\n",
       "      <td>204</td>\n",
       "      <td>204</td>\n",
       "      <td>204</td>\n",
       "      <td>135</td>\n",
       "      <td>204</td>\n",
       "      <td>203</td>\n",
       "      <td>204</td>\n",
       "      <td>155</td>\n",
       "      <td>145</td>\n",
       "      <td>202</td>\n",
       "      <td>204</td>\n",
       "      <td>204</td>\n",
       "    </tr>\n",
       "    <tr>\n",
       "      <th>no_enrollment</th>\n",
       "      <td>3547</td>\n",
       "      <td>3547</td>\n",
       "      <td>3547</td>\n",
       "      <td>2793</td>\n",
       "      <td>3547</td>\n",
       "      <td>3543</td>\n",
       "      <td>3533</td>\n",
       "      <td>2878</td>\n",
       "      <td>2772</td>\n",
       "      <td>3499</td>\n",
       "      <td>3547</td>\n",
       "      <td>3547</td>\n",
       "    </tr>\n",
       "    <tr>\n",
       "      <th rowspan=\"3\" valign=\"top\">Phd</th>\n",
       "      <th>Full time course</th>\n",
       "      <td>25</td>\n",
       "      <td>25</td>\n",
       "      <td>25</td>\n",
       "      <td>15</td>\n",
       "      <td>25</td>\n",
       "      <td>25</td>\n",
       "      <td>24</td>\n",
       "      <td>16</td>\n",
       "      <td>19</td>\n",
       "      <td>24</td>\n",
       "      <td>25</td>\n",
       "      <td>25</td>\n",
       "    </tr>\n",
       "    <tr>\n",
       "      <th>Part time course</th>\n",
       "      <td>12</td>\n",
       "      <td>12</td>\n",
       "      <td>12</td>\n",
       "      <td>9</td>\n",
       "      <td>12</td>\n",
       "      <td>12</td>\n",
       "      <td>12</td>\n",
       "      <td>10</td>\n",
       "      <td>9</td>\n",
       "      <td>11</td>\n",
       "      <td>12</td>\n",
       "      <td>12</td>\n",
       "    </tr>\n",
       "    <tr>\n",
       "      <th>no_enrollment</th>\n",
       "      <td>371</td>\n",
       "      <td>371</td>\n",
       "      <td>371</td>\n",
       "      <td>303</td>\n",
       "      <td>371</td>\n",
       "      <td>371</td>\n",
       "      <td>369</td>\n",
       "      <td>297</td>\n",
       "      <td>305</td>\n",
       "      <td>366</td>\n",
       "      <td>371</td>\n",
       "      <td>371</td>\n",
       "    </tr>\n",
       "    <tr>\n",
       "      <th rowspan=\"3\" valign=\"top\">Primary School</th>\n",
       "      <th>Full time course</th>\n",
       "      <td>33</td>\n",
       "      <td>33</td>\n",
       "      <td>33</td>\n",
       "      <td>19</td>\n",
       "      <td>33</td>\n",
       "      <td>0</td>\n",
       "      <td>32</td>\n",
       "      <td>9</td>\n",
       "      <td>12</td>\n",
       "      <td>30</td>\n",
       "      <td>33</td>\n",
       "      <td>33</td>\n",
       "    </tr>\n",
       "    <tr>\n",
       "      <th>Part time course</th>\n",
       "      <td>11</td>\n",
       "      <td>11</td>\n",
       "      <td>11</td>\n",
       "      <td>6</td>\n",
       "      <td>11</td>\n",
       "      <td>0</td>\n",
       "      <td>11</td>\n",
       "      <td>5</td>\n",
       "      <td>5</td>\n",
       "      <td>10</td>\n",
       "      <td>11</td>\n",
       "      <td>11</td>\n",
       "    </tr>\n",
       "    <tr>\n",
       "      <th>no_enrollment</th>\n",
       "      <td>255</td>\n",
       "      <td>255</td>\n",
       "      <td>255</td>\n",
       "      <td>182</td>\n",
       "      <td>255</td>\n",
       "      <td>0</td>\n",
       "      <td>255</td>\n",
       "      <td>50</td>\n",
       "      <td>72</td>\n",
       "      <td>251</td>\n",
       "      <td>255</td>\n",
       "      <td>255</td>\n",
       "    </tr>\n",
       "  </tbody>\n",
       "</table>\n",
       "</div>"
      ],
      "text/plain": [
       "                                     enrollee_id  city  \\\n",
       "education_level enrolled_university                      \n",
       "Graduate        Full time course            2209  2209   \n",
       "                Part time course             784   784   \n",
       "                no_enrollment               8434  8434   \n",
       "High School     Full time course             864   864   \n",
       "                Part time course             166   166   \n",
       "                no_enrollment                940   940   \n",
       "Masters         Full time course             557   557   \n",
       "                Part time course             204   204   \n",
       "                no_enrollment               3547  3547   \n",
       "Phd             Full time course              25    25   \n",
       "                Part time course              12    12   \n",
       "                no_enrollment                371   371   \n",
       "Primary School  Full time course              33    33   \n",
       "                Part time course              11    11   \n",
       "                no_enrollment                255   255   \n",
       "\n",
       "                                     city_development_index  gender  \\\n",
       "education_level enrolled_university                                   \n",
       "Graduate        Full time course                       2209    1501   \n",
       "                Part time course                        784     593   \n",
       "                no_enrollment                          8434    6835   \n",
       "High School     Full time course                        864     644   \n",
       "                Part time course                        166     123   \n",
       "                no_enrollment                           940     701   \n",
       "Masters         Full time course                        557     366   \n",
       "                Part time course                        204     135   \n",
       "                no_enrollment                          3547    2793   \n",
       "Phd             Full time course                         25      15   \n",
       "                Part time course                         12       9   \n",
       "                no_enrollment                           371     303   \n",
       "Primary School  Full time course                         33      19   \n",
       "                Part time course                         11       6   \n",
       "                no_enrollment                           255     182   \n",
       "\n",
       "                                     relevent_experience  major_discipline  \\\n",
       "education_level enrolled_university                                          \n",
       "Graduate        Full time course                    2209              2200   \n",
       "                Part time course                     784               784   \n",
       "                no_enrollment                       8434              8422   \n",
       "High School     Full time course                     864                 0   \n",
       "                Part time course                     166                 0   \n",
       "                no_enrollment                        940                 0   \n",
       "Masters         Full time course                     557               556   \n",
       "                Part time course                     204               203   \n",
       "                no_enrollment                       3547              3543   \n",
       "Phd             Full time course                      25                25   \n",
       "                Part time course                      12                12   \n",
       "                no_enrollment                        371               371   \n",
       "Primary School  Full time course                      33                 0   \n",
       "                Part time course                      11                 0   \n",
       "                no_enrollment                        255                 0   \n",
       "\n",
       "                                     experience  company_size  company_type  \\\n",
       "education_level enrolled_university                                           \n",
       "Graduate        Full time course           2195          1040          1073   \n",
       "                Part time course            784           587           571   \n",
       "                no_enrollment              8418          6705          6511   \n",
       "High School     Full time course            864           252           281   \n",
       "                Part time course            165           112           106   \n",
       "                no_enrollment               938           483           502   \n",
       "Masters         Full time course            556           328           345   \n",
       "                Part time course            204           155           145   \n",
       "                no_enrollment              3533          2878          2772   \n",
       "Phd             Full time course             24            16            19   \n",
       "                Part time course             12            10             9   \n",
       "                no_enrollment               369           297           305   \n",
       "Primary School  Full time course             32             9            12   \n",
       "                Part time course             11             5             5   \n",
       "                no_enrollment               255            50            72   \n",
       "\n",
       "                                     last_new_job  training_hours  target  \n",
       "education_level enrolled_university                                        \n",
       "Graduate        Full time course             2107            2209    2209  \n",
       "                Part time course              766             784     784  \n",
       "                no_enrollment                8335            8434    8434  \n",
       "High School     Full time course              833             864     864  \n",
       "                Part time course              160             166     166  \n",
       "                no_enrollment                 916             940     940  \n",
       "Masters         Full time course              534             557     557  \n",
       "                Part time course              202             204     204  \n",
       "                no_enrollment                3499            3547    3547  \n",
       "Phd             Full time course               24              25      25  \n",
       "                Part time course               11              12      12  \n",
       "                no_enrollment                 366             371     371  \n",
       "Primary School  Full time course               30              33      33  \n",
       "                Part time course               10              11      11  \n",
       "                no_enrollment                 251             255     255  "
      ]
     },
     "execution_count": 8,
     "metadata": {},
     "output_type": "execute_result"
    }
   ],
   "source": [
    "df_train.groupby([ 'education_level', 'enrolled_university']).count()"
   ]
  },
  {
   "cell_type": "code",
   "execution_count": 9,
   "id": "1063c2d6",
   "metadata": {},
   "outputs": [
    {
     "data": {
      "text/plain": [
       "array([1., 0.])"
      ]
     },
     "execution_count": 9,
     "metadata": {},
     "output_type": "execute_result"
    }
   ],
   "source": [
    "df_train['target'].unique()"
   ]
  },
  {
   "cell_type": "markdown",
   "id": "fc24e932",
   "metadata": {},
   "source": [
    "- Transformation:\n",
    "    - Gender, major_discipline column: Create another category called \"others\"\n",
    "    - enrolled_university, education_level, last_new_jobs: fill it with the mode\n",
    "    - figure how to handle company_size and company_type = company_type(Other), experience (Mode), company_size (Other)\n",
    "- Analysis:\n",
    "    - A lot of analysis: create a presentation powerpoint, pdf\n",
    "        - correlations\n",
    "        - bar plot\n",
    "        - pie charts\n",
    "- ML Transformation\n",
    "    - Label Encoder\n",
    "    - One Hot Encoding\n",
    "    - Embedding\n",
    "    \n",
    "- Model \n",
    "        "
   ]
  },
  {
   "cell_type": "code",
   "execution_count": 10,
   "id": "1616c024",
   "metadata": {},
   "outputs": [
    {
     "data": {
      "text/plain": [
       "array(['Male', nan, 'Female', 'Other'], dtype=object)"
      ]
     },
     "execution_count": 10,
     "metadata": {},
     "output_type": "execute_result"
    }
   ],
   "source": [
    "df_train['gender'].unique()"
   ]
  },
  {
   "cell_type": "code",
   "execution_count": 11,
   "id": "735b063a",
   "metadata": {},
   "outputs": [
    {
     "data": {
      "text/plain": [
       "enrollee_id                  0\n",
       "city                         0\n",
       "city_development_index       0\n",
       "gender                    4508\n",
       "relevent_experience          0\n",
       "enrolled_university        386\n",
       "education_level            460\n",
       "major_discipline          2813\n",
       "experience                  65\n",
       "company_size              5938\n",
       "company_type              6140\n",
       "last_new_job               423\n",
       "training_hours               0\n",
       "target                       0\n",
       "dtype: int64"
      ]
     },
     "execution_count": 11,
     "metadata": {},
     "output_type": "execute_result"
    }
   ],
   "source": [
    "df_train.isnull().sum()"
   ]
  },
  {
   "cell_type": "code",
   "execution_count": 12,
   "id": "2d9503b0",
   "metadata": {},
   "outputs": [],
   "source": [
    "tran = support.Transformation(df_train)"
   ]
  },
  {
   "cell_type": "code",
   "execution_count": 16,
   "id": "105f9682",
   "metadata": {},
   "outputs": [],
   "source": [
    "hr = tran.run_process()"
   ]
  },
  {
   "cell_type": "code",
   "execution_count": 17,
   "id": "6317977a",
   "metadata": {},
   "outputs": [
    {
     "data": {
      "text/plain": [
       "enrollee_id               0\n",
       "city                      0\n",
       "city_development_index    0\n",
       "gender                    0\n",
       "relevent_experience       0\n",
       "enrolled_university       0\n",
       "education_level           0\n",
       "major_discipline          0\n",
       "experience                0\n",
       "company_size              0\n",
       "company_type              0\n",
       "last_new_job              0\n",
       "training_hours            0\n",
       "target                    0\n",
       "dtype: int64"
      ]
     },
     "execution_count": 17,
     "metadata": {},
     "output_type": "execute_result"
    }
   ],
   "source": [
    "hr.isnull().sum()"
   ]
  },
  {
   "cell_type": "code",
   "execution_count": 18,
   "id": "3016e698",
   "metadata": {},
   "outputs": [],
   "source": [
    "hr = hr.drop(\"enrollee_id\", axis=1)"
   ]
  },
  {
   "cell_type": "code",
   "execution_count": 20,
   "id": "61a58b7f",
   "metadata": {},
   "outputs": [
    {
     "data": {
      "text/plain": [
       "Index(['city', 'city_development_index', 'gender', 'relevent_experience',\n",
       "       'enrolled_university', 'education_level', 'major_discipline',\n",
       "       'experience', 'company_size', 'company_type', 'last_new_job',\n",
       "       'training_hours', 'target'],\n",
       "      dtype='object')"
      ]
     },
     "execution_count": 20,
     "metadata": {},
     "output_type": "execute_result"
    }
   ],
   "source": [
    "hr.columns"
   ]
  },
  {
   "cell_type": "code",
   "execution_count": 21,
   "id": "129e7ad8",
   "metadata": {},
   "outputs": [
    {
     "name": "stdout",
     "output_type": "stream",
     "text": [
      "Collecting pivottablejs\n",
      "  Using cached pivottablejs-0.9.0-py2.py3-none-any.whl (4.7 kB)\n",
      "Installing collected packages: pivottablejs\n",
      "Successfully installed pivottablejs-0.9.0\n",
      "Note: you may need to restart the kernel to use updated packages.\n"
     ]
    }
   ],
   "source": [
    "pip install pivottablejs"
   ]
  },
  {
   "cell_type": "code",
   "execution_count": 23,
   "id": "eb5c863a",
   "metadata": {
    "scrolled": true
   },
   "outputs": [
    {
     "data": {
      "text/html": [
       "\n",
       "        <iframe\n",
       "            width=\"100%\"\n",
       "            height=\"500\"\n",
       "            src=\"pivottablejs.html\"\n",
       "            frameborder=\"0\"\n",
       "            allowfullscreen\n",
       "            \n",
       "        ></iframe>\n",
       "        "
      ],
      "text/plain": [
       "<IPython.lib.display.IFrame at 0x15ac71e2190>"
      ]
     },
     "execution_count": 23,
     "metadata": {},
     "output_type": "execute_result"
    }
   ],
   "source": [
    "from pivottablejs import pivot_ui\n",
    "\n",
    "pivot_ui(hr)"
   ]
  },
  {
   "cell_type": "code",
   "execution_count": null,
   "id": "7276209f",
   "metadata": {},
   "outputs": [],
   "source": []
  },
  {
   "cell_type": "code",
   "execution_count": 25,
   "id": "0486f6c5",
   "metadata": {},
   "outputs": [
    {
     "data": {
      "image/png": "[encoded data removed]",
      "text/plain": [
       "<Figure size 700x500 with 1 Axes>"
      ]
     },
     "metadata": {},
     "output_type": "display_data"
    }
   ],
   "source": [
    "support.labeled_barplot(hr,\"company_type\",perc=True)"
   ]
  },
  {
   "cell_type": "code",
   "execution_count": null,
   "id": "447c6c65",
   "metadata": {},
   "outputs": [],
   "source": []
  },
  {
   "cell_type": "markdown",
   "id": "c5ba7210",
   "metadata": {},
   "source": [
    "#### FInd correlation of categorical variables"
   ]
  },
  {
   "cell_type": "code",
   "execution_count": null,
   "id": "e7d2ad6d",
   "metadata": {},
   "outputs": [],
   "source": [
    "plt.figure(figsize=(10,7))\n",
    "sns.barplot (x='education_level',y='city_development_index', data=df_train, label='blue')"
   ]
  },
  {
   "cell_type": "code",
   "execution_count": 15,
   "id": "85834e94",
   "metadata": {},
   "outputs": [
    {
     "name": "stdout",
     "output_type": "stream",
     "text": [
      "        1 file(s) copied.\n"
     ]
    }
   ],
   "source": [
    "copy HR-Analytics.ipynb \"C:\\Users\\Nathaniel\\PycharmProjects\\HR_Recruitment_Analysis\\\""
   ]
  },
  {
   "cell_type": "code",
   "execution_count": 16,
   "id": "83b1d1ef",
   "metadata": {},
   "outputs": [
    {
     "name": "stdout",
     "output_type": "stream",
     "text": [
      "        1 file(s) copied.\n"
     ]
    }
   ],
   "source": [
    "copy support.py \"C:\\Users\\Nathaniel\\PycharmProjects\\HR_Recruitment_Analysis\\\""
   ]
  },
  {
   "cell_type": "code",
   "execution_count": null,
   "id": "8b9bba68",
   "metadata": {},
   "outputs": [],
   "source": []
  }
 ],
 "metadata": {
  "kernelspec": {
   "display_name": "Python 3 (ipykernel)",
   "language": "python",
   "name": "python3"
  },
  "language_info": {
   "codemirror_mode": {
    "name": "ipython",
    "version": 3
   },
   "file_extension": ".py",
   "mimetype": "text/x-python",
   "name": "python",
   "nbconvert_exporter": "python",
   "pygments_lexer": "ipython3",
   "version": "3.9.13"
  }
 },
 "nbformat": 4,
 "nbformat_minor": 5
}
