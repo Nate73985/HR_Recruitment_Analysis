{
 "cells": [
  {
   "cell_type": "code",
   "execution_count": 1,
   "id": "83b85f96",
   "metadata": {},
   "outputs": [],
   "source": [
    "import pandas as pd\n",
    "import numpy as np\n",
    "import seaborn as sns\n",
    "import matplotlib.pyplot as plt\n",
    "import io\n",
    "import boto3\n",
    "\n",
    "import warnings\n",
    "warnings.filterwarnings('ignore')"
   ]
  },
  {
   "cell_type": "code",
   "execution_count": 2,
   "id": "8a18f874",
   "metadata": {},
   "outputs": [
    {
     "name": "stdout",
     "output_type": "stream",
     "text": [
      "2.13.0\n"
     ]
    }
   ],
   "source": [
    "import tensorflow\n",
    "print(tensorflow.__version__)\n"
   ]
  },
  {
   "cell_type": "code",
   "execution_count": 3,
   "id": "5c70adfd",
   "metadata": {},
   "outputs": [],
   "source": [
    "import keras"
   ]
  },
  {
   "cell_type": "code",
   "execution_count": 4,
   "id": "401e4932",
   "metadata": {},
   "outputs": [],
   "source": [
    "from keras.models import Sequential\n",
    "from keras.layers import Embedding, Flatten"
   ]
  },
  {
   "cell_type": "code",
   "execution_count": 5,
   "id": "ae5af2b3",
   "metadata": {},
   "outputs": [],
   "source": [
    "import support as support"
   ]
  },
  {
   "cell_type": "code",
   "execution_count": 6,
   "id": "a0c2b6cc",
   "metadata": {},
   "outputs": [],
   "source": [
    "#df_train_s3 = support.read_from_s3(\"hr_train_data\",\"hranalyticsdata/new\")"
   ]
  },
  {
   "cell_type": "code",
   "execution_count": 6,
   "id": "3e05f925",
   "metadata": {},
   "outputs": [],
   "source": [
    "df_train_s3 = pd.read_csv(\"aug_train.csv\")"
   ]
  },
  {
   "cell_type": "code",
   "execution_count": 7,
   "id": "943545d6",
   "metadata": {
    "scrolled": true
   },
   "outputs": [
    {
     "data": {
      "text/html": [
       "<div>\n",
       "<style scoped>\n",
       "    .dataframe tbody tr th:only-of-type {\n",
       "        vertical-align: middle;\n",
       "    }\n",
       "\n",
       "    .dataframe tbody tr th {\n",
       "        vertical-align: top;\n",
       "    }\n",
       "\n",
       "    .dataframe thead th {\n",
       "        text-align: right;\n",
       "    }\n",
       "</style>\n",
       "<table border=\"1\" class=\"dataframe\">\n",
       "  <thead>\n",
       "    <tr style=\"text-align: right;\">\n",
       "      <th></th>\n",
       "      <th>enrollee_id</th>\n",
       "      <th>city</th>\n",
       "      <th>city_development_index</th>\n",
       "      <th>gender</th>\n",
       "      <th>relevent_experience</th>\n",
       "      <th>enrolled_university</th>\n",
       "      <th>education_level</th>\n",
       "      <th>major_discipline</th>\n",
       "      <th>experience</th>\n",
       "      <th>company_size</th>\n",
       "      <th>company_type</th>\n",
       "      <th>last_new_job</th>\n",
       "      <th>training_hours</th>\n",
       "      <th>target</th>\n",
       "    </tr>\n",
       "  </thead>\n",
       "  <tbody>\n",
       "    <tr>\n",
       "      <th>0</th>\n",
       "      <td>8949</td>\n",
       "      <td>city_103</td>\n",
       "      <td>0.920</td>\n",
       "      <td>Male</td>\n",
       "      <td>Has relevent experience</td>\n",
       "      <td>no_enrollment</td>\n",
       "      <td>Graduate</td>\n",
       "      <td>STEM</td>\n",
       "      <td>&gt;20</td>\n",
       "      <td>NaN</td>\n",
       "      <td>NaN</td>\n",
       "      <td>1</td>\n",
       "      <td>36</td>\n",
       "      <td>1.0</td>\n",
       "    </tr>\n",
       "    <tr>\n",
       "      <th>1</th>\n",
       "      <td>29725</td>\n",
       "      <td>city_40</td>\n",
       "      <td>0.776</td>\n",
       "      <td>Male</td>\n",
       "      <td>No relevent experience</td>\n",
       "      <td>no_enrollment</td>\n",
       "      <td>Graduate</td>\n",
       "      <td>STEM</td>\n",
       "      <td>15</td>\n",
       "      <td>50-99</td>\n",
       "      <td>Pvt Ltd</td>\n",
       "      <td>&gt;4</td>\n",
       "      <td>47</td>\n",
       "      <td>0.0</td>\n",
       "    </tr>\n",
       "  </tbody>\n",
       "</table>\n",
       "</div>"
      ],
      "text/plain": [
       "   enrollee_id      city  city_development_index gender  \\\n",
       "0         8949  city_103                   0.920   Male   \n",
       "1        29725   city_40                   0.776   Male   \n",
       "\n",
       "       relevent_experience enrolled_university education_level  \\\n",
       "0  Has relevent experience       no_enrollment        Graduate   \n",
       "1   No relevent experience       no_enrollment        Graduate   \n",
       "\n",
       "  major_discipline experience company_size company_type last_new_job  \\\n",
       "0             STEM        >20          NaN          NaN            1   \n",
       "1             STEM         15        50-99      Pvt Ltd           >4   \n",
       "\n",
       "   training_hours  target  \n",
       "0              36     1.0  \n",
       "1              47     0.0  "
      ]
     },
     "execution_count": 7,
     "metadata": {},
     "output_type": "execute_result"
    }
   ],
   "source": [
    "df_train = df_train_s3.copy()\n",
    "df_train.head(2)"
   ]
  },
  {
   "cell_type": "code",
   "execution_count": 8,
   "id": "07a9906c",
   "metadata": {},
   "outputs": [
    {
     "name": "stdout",
     "output_type": "stream",
     "text": [
      "Train data: (19158, 14)\n"
     ]
    }
   ],
   "source": [
    "print ('Train data:',df_train.shape)"
   ]
  },
  {
   "cell_type": "code",
   "execution_count": 9,
   "id": "754ce3cd",
   "metadata": {},
   "outputs": [
    {
     "name": "stdout",
     "output_type": "stream",
     "text": [
      "<class 'pandas.core.frame.DataFrame'>\n",
      "RangeIndex: 19158 entries, 0 to 19157\n",
      "Data columns (total 14 columns):\n",
      " #   Column                  Non-Null Count  Dtype  \n",
      "---  ------                  --------------  -----  \n",
      " 0   enrollee_id             19158 non-null  int64  \n",
      " 1   city                    19158 non-null  object \n",
      " 2   city_development_index  19158 non-null  float64\n",
      " 3   gender                  14650 non-null  object \n",
      " 4   relevent_experience     19158 non-null  object \n",
      " 5   enrolled_university     18772 non-null  object \n",
      " 6   education_level         18698 non-null  object \n",
      " 7   major_discipline        16345 non-null  object \n",
      " 8   experience              19093 non-null  object \n",
      " 9   company_size            13220 non-null  object \n",
      " 10  company_type            13018 non-null  object \n",
      " 11  last_new_job            18735 non-null  object \n",
      " 12  training_hours          19158 non-null  int64  \n",
      " 13  target                  19158 non-null  float64\n",
      "dtypes: float64(2), int64(2), object(10)\n",
      "memory usage: 2.0+ MB\n"
     ]
    }
   ],
   "source": [
    "df_train.info()"
   ]
  },
  {
   "cell_type": "code",
   "execution_count": 10,
   "id": "539f2384",
   "metadata": {},
   "outputs": [
    {
     "data": {
      "text/plain": [
       "array(['>20', '15', '5', '<1', '11', '13', '7', '17', '2', '16', '1', '4',\n",
       "       '10', '14', '18', '19', '12', '3', '6', '9', '8', '20', nan],\n",
       "      dtype=object)"
      ]
     },
     "execution_count": 10,
     "metadata": {},
     "output_type": "execute_result"
    }
   ],
   "source": [
    " df_train['experience'].unique()"
   ]
  },
  {
   "cell_type": "code",
   "execution_count": 11,
   "id": "cc4cd412",
   "metadata": {},
   "outputs": [
    {
     "data": {
      "text/plain": [
       "array([nan, '50-99', '<10', '10000+', '5000-9999', '1000-4999', '10/49',\n",
       "       '100-500', '500-999'], dtype=object)"
      ]
     },
     "execution_count": 11,
     "metadata": {},
     "output_type": "execute_result"
    }
   ],
   "source": [
    "df_train['company_size'].unique()"
   ]
  },
  {
   "cell_type": "code",
   "execution_count": 20,
   "id": "dc072784",
   "metadata": {},
   "outputs": [
    {
     "data": {
      "text/plain": [
       "123"
      ]
     },
     "execution_count": 20,
     "metadata": {},
     "output_type": "execute_result"
    }
   ],
   "source": [
    "df_train['city'].nunique()"
   ]
  },
  {
   "cell_type": "code",
   "execution_count": 37,
   "id": "904a19b8",
   "metadata": {},
   "outputs": [
    {
     "data": {
      "text/plain": [
       "array([ 36,  47,  83,  52,   8,  24,  18,  46, 123,  32, 108,  23,  26,\n",
       "       106,   7, 132,  68,  50,  48,  65,  13,  22, 148,  72,  40, 141,\n",
       "        82, 145, 206, 152,  42,  14, 112,  87,  20,  21,  92, 102,  43,\n",
       "        45,  19,  90,  25,  15,  98, 142,  28, 228,  29,  12,  17,  35,\n",
       "         4, 136,  27,  74,  86,  75, 332, 140, 182, 172,  33,  34, 150,\n",
       "       160,   3,   2, 210, 101,  59, 260, 131, 109,  70,  51,  60, 164,\n",
       "       290, 133,  76, 156, 120, 100,  39,  55,  49,   6, 125, 326, 198,\n",
       "        11,  41, 114, 246,  81,  31,  84, 105,  38, 178, 104, 202,  88,\n",
       "       218,  62,  10,  80,  77,  37, 162, 190,  30,  16,   5,  54,  44,\n",
       "       110, 262, 107, 134, 103,  96,  57, 240,  94, 113,  56,  64, 320,\n",
       "         9, 129,  58, 126, 166,  95,  97, 204, 116, 161, 146, 302,  53,\n",
       "       143, 124, 214, 288, 306, 322,  67,  61, 130, 220,  78, 314, 226,\n",
       "       280,  91, 234, 163, 151,  85, 256, 168, 144,  66, 128,  73, 122,\n",
       "       154,  63, 292, 188,  71, 135, 138, 184,  89, 157, 118, 111, 192,\n",
       "       127, 216, 139, 196,  99, 167, 276, 121,  69, 155, 316, 242, 304,\n",
       "       284, 278, 310, 222, 212, 250, 180, 258, 330, 158, 149, 165,  79,\n",
       "       194, 176, 174, 312, 200, 328, 300, 153, 232, 336, 308, 147, 298,\n",
       "       224, 254, 248, 236, 170, 264, 119, 117, 334, 324,   1, 238, 266,\n",
       "       282, 268, 244, 272, 294, 270, 286], dtype=int64)"
      ]
     },
     "execution_count": 37,
     "metadata": {},
     "output_type": "execute_result"
    }
   ],
   "source": [
    "df_train['training_hours'].unique()"
   ]
  },
  {
   "cell_type": "code",
   "execution_count": 12,
   "id": "eda6179f",
   "metadata": {},
   "outputs": [
    {
     "data": {
      "text/html": [
       "<div>\n",
       "<style scoped>\n",
       "    .dataframe tbody tr th:only-of-type {\n",
       "        vertical-align: middle;\n",
       "    }\n",
       "\n",
       "    .dataframe tbody tr th {\n",
       "        vertical-align: top;\n",
       "    }\n",
       "\n",
       "    .dataframe thead th {\n",
       "        text-align: right;\n",
       "    }\n",
       "</style>\n",
       "<table border=\"1\" class=\"dataframe\">\n",
       "  <thead>\n",
       "    <tr style=\"text-align: right;\">\n",
       "      <th></th>\n",
       "      <th></th>\n",
       "      <th>enrollee_id</th>\n",
       "      <th>city</th>\n",
       "      <th>city_development_index</th>\n",
       "      <th>gender</th>\n",
       "      <th>relevent_experience</th>\n",
       "      <th>major_discipline</th>\n",
       "      <th>experience</th>\n",
       "      <th>company_size</th>\n",
       "      <th>company_type</th>\n",
       "      <th>last_new_job</th>\n",
       "      <th>training_hours</th>\n",
       "      <th>target</th>\n",
       "    </tr>\n",
       "    <tr>\n",
       "      <th>education_level</th>\n",
       "      <th>enrolled_university</th>\n",
       "      <th></th>\n",
       "      <th></th>\n",
       "      <th></th>\n",
       "      <th></th>\n",
       "      <th></th>\n",
       "      <th></th>\n",
       "      <th></th>\n",
       "      <th></th>\n",
       "      <th></th>\n",
       "      <th></th>\n",
       "      <th></th>\n",
       "      <th></th>\n",
       "    </tr>\n",
       "  </thead>\n",
       "  <tbody>\n",
       "    <tr>\n",
       "      <th rowspan=\"3\" valign=\"top\">Graduate</th>\n",
       "      <th>Full time course</th>\n",
       "      <td>2209</td>\n",
       "      <td>2209</td>\n",
       "      <td>2209</td>\n",
       "      <td>1501</td>\n",
       "      <td>2209</td>\n",
       "      <td>2200</td>\n",
       "      <td>2195</td>\n",
       "      <td>1040</td>\n",
       "      <td>1073</td>\n",
       "      <td>2107</td>\n",
       "      <td>2209</td>\n",
       "      <td>2209</td>\n",
       "    </tr>\n",
       "    <tr>\n",
       "      <th>Part time course</th>\n",
       "      <td>784</td>\n",
       "      <td>784</td>\n",
       "      <td>784</td>\n",
       "      <td>593</td>\n",
       "      <td>784</td>\n",
       "      <td>784</td>\n",
       "      <td>784</td>\n",
       "      <td>587</td>\n",
       "      <td>571</td>\n",
       "      <td>766</td>\n",
       "      <td>784</td>\n",
       "      <td>784</td>\n",
       "    </tr>\n",
       "    <tr>\n",
       "      <th>no_enrollment</th>\n",
       "      <td>8434</td>\n",
       "      <td>8434</td>\n",
       "      <td>8434</td>\n",
       "      <td>6835</td>\n",
       "      <td>8434</td>\n",
       "      <td>8422</td>\n",
       "      <td>8418</td>\n",
       "      <td>6705</td>\n",
       "      <td>6511</td>\n",
       "      <td>8335</td>\n",
       "      <td>8434</td>\n",
       "      <td>8434</td>\n",
       "    </tr>\n",
       "    <tr>\n",
       "      <th rowspan=\"3\" valign=\"top\">High School</th>\n",
       "      <th>Full time course</th>\n",
       "      <td>864</td>\n",
       "      <td>864</td>\n",
       "      <td>864</td>\n",
       "      <td>644</td>\n",
       "      <td>864</td>\n",
       "      <td>0</td>\n",
       "      <td>864</td>\n",
       "      <td>252</td>\n",
       "      <td>281</td>\n",
       "      <td>833</td>\n",
       "      <td>864</td>\n",
       "      <td>864</td>\n",
       "    </tr>\n",
       "    <tr>\n",
       "      <th>Part time course</th>\n",
       "      <td>166</td>\n",
       "      <td>166</td>\n",
       "      <td>166</td>\n",
       "      <td>123</td>\n",
       "      <td>166</td>\n",
       "      <td>0</td>\n",
       "      <td>165</td>\n",
       "      <td>112</td>\n",
       "      <td>106</td>\n",
       "      <td>160</td>\n",
       "      <td>166</td>\n",
       "      <td>166</td>\n",
       "    </tr>\n",
       "    <tr>\n",
       "      <th>no_enrollment</th>\n",
       "      <td>940</td>\n",
       "      <td>940</td>\n",
       "      <td>940</td>\n",
       "      <td>701</td>\n",
       "      <td>940</td>\n",
       "      <td>0</td>\n",
       "      <td>938</td>\n",
       "      <td>483</td>\n",
       "      <td>502</td>\n",
       "      <td>916</td>\n",
       "      <td>940</td>\n",
       "      <td>940</td>\n",
       "    </tr>\n",
       "    <tr>\n",
       "      <th rowspan=\"3\" valign=\"top\">Masters</th>\n",
       "      <th>Full time course</th>\n",
       "      <td>557</td>\n",
       "      <td>557</td>\n",
       "      <td>557</td>\n",
       "      <td>366</td>\n",
       "      <td>557</td>\n",
       "      <td>556</td>\n",
       "      <td>556</td>\n",
       "      <td>328</td>\n",
       "      <td>345</td>\n",
       "      <td>534</td>\n",
       "      <td>557</td>\n",
       "      <td>557</td>\n",
       "    </tr>\n",
       "    <tr>\n",
       "      <th>Part time course</th>\n",
       "      <td>204</td>\n",
       "      <td>204</td>\n",
       "      <td>204</td>\n",
       "      <td>135</td>\n",
       "      <td>204</td>\n",
       "      <td>203</td>\n",
       "      <td>204</td>\n",
       "      <td>155</td>\n",
       "      <td>145</td>\n",
       "      <td>202</td>\n",
       "      <td>204</td>\n",
       "      <td>204</td>\n",
       "    </tr>\n",
       "    <tr>\n",
       "      <th>no_enrollment</th>\n",
       "      <td>3547</td>\n",
       "      <td>3547</td>\n",
       "      <td>3547</td>\n",
       "      <td>2793</td>\n",
       "      <td>3547</td>\n",
       "      <td>3543</td>\n",
       "      <td>3533</td>\n",
       "      <td>2878</td>\n",
       "      <td>2772</td>\n",
       "      <td>3499</td>\n",
       "      <td>3547</td>\n",
       "      <td>3547</td>\n",
       "    </tr>\n",
       "    <tr>\n",
       "      <th rowspan=\"3\" valign=\"top\">Phd</th>\n",
       "      <th>Full time course</th>\n",
       "      <td>25</td>\n",
       "      <td>25</td>\n",
       "      <td>25</td>\n",
       "      <td>15</td>\n",
       "      <td>25</td>\n",
       "      <td>25</td>\n",
       "      <td>24</td>\n",
       "      <td>16</td>\n",
       "      <td>19</td>\n",
       "      <td>24</td>\n",
       "      <td>25</td>\n",
       "      <td>25</td>\n",
       "    </tr>\n",
       "    <tr>\n",
       "      <th>Part time course</th>\n",
       "      <td>12</td>\n",
       "      <td>12</td>\n",
       "      <td>12</td>\n",
       "      <td>9</td>\n",
       "      <td>12</td>\n",
       "      <td>12</td>\n",
       "      <td>12</td>\n",
       "      <td>10</td>\n",
       "      <td>9</td>\n",
       "      <td>11</td>\n",
       "      <td>12</td>\n",
       "      <td>12</td>\n",
       "    </tr>\n",
       "    <tr>\n",
       "      <th>no_enrollment</th>\n",
       "      <td>371</td>\n",
       "      <td>371</td>\n",
       "      <td>371</td>\n",
       "      <td>303</td>\n",
       "      <td>371</td>\n",
       "      <td>371</td>\n",
       "      <td>369</td>\n",
       "      <td>297</td>\n",
       "      <td>305</td>\n",
       "      <td>366</td>\n",
       "      <td>371</td>\n",
       "      <td>371</td>\n",
       "    </tr>\n",
       "    <tr>\n",
       "      <th rowspan=\"3\" valign=\"top\">Primary School</th>\n",
       "      <th>Full time course</th>\n",
       "      <td>33</td>\n",
       "      <td>33</td>\n",
       "      <td>33</td>\n",
       "      <td>19</td>\n",
       "      <td>33</td>\n",
       "      <td>0</td>\n",
       "      <td>32</td>\n",
       "      <td>9</td>\n",
       "      <td>12</td>\n",
       "      <td>30</td>\n",
       "      <td>33</td>\n",
       "      <td>33</td>\n",
       "    </tr>\n",
       "    <tr>\n",
       "      <th>Part time course</th>\n",
       "      <td>11</td>\n",
       "      <td>11</td>\n",
       "      <td>11</td>\n",
       "      <td>6</td>\n",
       "      <td>11</td>\n",
       "      <td>0</td>\n",
       "      <td>11</td>\n",
       "      <td>5</td>\n",
       "      <td>5</td>\n",
       "      <td>10</td>\n",
       "      <td>11</td>\n",
       "      <td>11</td>\n",
       "    </tr>\n",
       "    <tr>\n",
       "      <th>no_enrollment</th>\n",
       "      <td>255</td>\n",
       "      <td>255</td>\n",
       "      <td>255</td>\n",
       "      <td>182</td>\n",
       "      <td>255</td>\n",
       "      <td>0</td>\n",
       "      <td>255</td>\n",
       "      <td>50</td>\n",
       "      <td>72</td>\n",
       "      <td>251</td>\n",
       "      <td>255</td>\n",
       "      <td>255</td>\n",
       "    </tr>\n",
       "  </tbody>\n",
       "</table>\n",
       "</div>"
      ],
      "text/plain": [
       "                                     enrollee_id  city  \\\n",
       "education_level enrolled_university                      \n",
       "Graduate        Full time course            2209  2209   \n",
       "                Part time course             784   784   \n",
       "                no_enrollment               8434  8434   \n",
       "High School     Full time course             864   864   \n",
       "                Part time course             166   166   \n",
       "                no_enrollment                940   940   \n",
       "Masters         Full time course             557   557   \n",
       "                Part time course             204   204   \n",
       "                no_enrollment               3547  3547   \n",
       "Phd             Full time course              25    25   \n",
       "                Part time course              12    12   \n",
       "                no_enrollment                371   371   \n",
       "Primary School  Full time course              33    33   \n",
       "                Part time course              11    11   \n",
       "                no_enrollment                255   255   \n",
       "\n",
       "                                     city_development_index  gender  \\\n",
       "education_level enrolled_university                                   \n",
       "Graduate        Full time course                       2209    1501   \n",
       "                Part time course                        784     593   \n",
       "                no_enrollment                          8434    6835   \n",
       "High School     Full time course                        864     644   \n",
       "                Part time course                        166     123   \n",
       "                no_enrollment                           940     701   \n",
       "Masters         Full time course                        557     366   \n",
       "                Part time course                        204     135   \n",
       "                no_enrollment                          3547    2793   \n",
       "Phd             Full time course                         25      15   \n",
       "                Part time course                         12       9   \n",
       "                no_enrollment                           371     303   \n",
       "Primary School  Full time course                         33      19   \n",
       "                Part time course                         11       6   \n",
       "                no_enrollment                           255     182   \n",
       "\n",
       "                                     relevent_experience  major_discipline  \\\n",
       "education_level enrolled_university                                          \n",
       "Graduate        Full time course                    2209              2200   \n",
       "                Part time course                     784               784   \n",
       "                no_enrollment                       8434              8422   \n",
       "High School     Full time course                     864                 0   \n",
       "                Part time course                     166                 0   \n",
       "                no_enrollment                        940                 0   \n",
       "Masters         Full time course                     557               556   \n",
       "                Part time course                     204               203   \n",
       "                no_enrollment                       3547              3543   \n",
       "Phd             Full time course                      25                25   \n",
       "                Part time course                      12                12   \n",
       "                no_enrollment                        371               371   \n",
       "Primary School  Full time course                      33                 0   \n",
       "                Part time course                      11                 0   \n",
       "                no_enrollment                        255                 0   \n",
       "\n",
       "                                     experience  company_size  company_type  \\\n",
       "education_level enrolled_university                                           \n",
       "Graduate        Full time course           2195          1040          1073   \n",
       "                Part time course            784           587           571   \n",
       "                no_enrollment              8418          6705          6511   \n",
       "High School     Full time course            864           252           281   \n",
       "                Part time course            165           112           106   \n",
       "                no_enrollment               938           483           502   \n",
       "Masters         Full time course            556           328           345   \n",
       "                Part time course            204           155           145   \n",
       "                no_enrollment              3533          2878          2772   \n",
       "Phd             Full time course             24            16            19   \n",
       "                Part time course             12            10             9   \n",
       "                no_enrollment               369           297           305   \n",
       "Primary School  Full time course             32             9            12   \n",
       "                Part time course             11             5             5   \n",
       "                no_enrollment               255            50            72   \n",
       "\n",
       "                                     last_new_job  training_hours  target  \n",
       "education_level enrolled_university                                        \n",
       "Graduate        Full time course             2107            2209    2209  \n",
       "                Part time course              766             784     784  \n",
       "                no_enrollment                8335            8434    8434  \n",
       "High School     Full time course              833             864     864  \n",
       "                Part time course              160             166     166  \n",
       "                no_enrollment                 916             940     940  \n",
       "Masters         Full time course              534             557     557  \n",
       "                Part time course              202             204     204  \n",
       "                no_enrollment                3499            3547    3547  \n",
       "Phd             Full time course               24              25      25  \n",
       "                Part time course               11              12      12  \n",
       "                no_enrollment                 366             371     371  \n",
       "Primary School  Full time course               30              33      33  \n",
       "                Part time course               10              11      11  \n",
       "                no_enrollment                 251             255     255  "
      ]
     },
     "execution_count": 12,
     "metadata": {},
     "output_type": "execute_result"
    }
   ],
   "source": [
    "df_train.groupby([ 'education_level', 'enrolled_university']).count()"
   ]
  },
  {
   "cell_type": "code",
   "execution_count": 13,
   "id": "1063c2d6",
   "metadata": {},
   "outputs": [
    {
     "data": {
      "text/plain": [
       "array([1., 0.])"
      ]
     },
     "execution_count": 13,
     "metadata": {},
     "output_type": "execute_result"
    }
   ],
   "source": [
    "df_train['target'].unique()"
   ]
  },
  {
   "cell_type": "markdown",
   "id": "fc24e932",
   "metadata": {},
   "source": [
    "- Transformation:\n",
    "    - Gender, major_discipline column: Create another category called \"others\"\n",
    "    - enrolled_university, education_level, last_new_jobs: fill it with the mode\n",
    "    - figure how to handle company_size and company_type = company_type(Other), experience (Mode), company_size (Other)\n",
    "- Analysis:\n",
    "    - A lot of analysis: create a presentation powerpoint, pdf\n",
    "        - correlations\n",
    "        - bar plot\n",
    "        - pie charts\n",
    "- ML Transformation\n",
    "    - Label Encoder\n",
    "    - One Hot Encoding\n",
    "    - Embedding\n",
    "    \n",
    "- Model \n",
    "        "
   ]
  },
  {
   "cell_type": "code",
   "execution_count": 14,
   "id": "1616c024",
   "metadata": {},
   "outputs": [
    {
     "data": {
      "text/plain": [
       "array(['Male', nan, 'Female', 'Other'], dtype=object)"
      ]
     },
     "execution_count": 14,
     "metadata": {},
     "output_type": "execute_result"
    }
   ],
   "source": [
    "df_train['gender'].unique()"
   ]
  },
  {
   "cell_type": "code",
   "execution_count": 15,
   "id": "735b063a",
   "metadata": {},
   "outputs": [
    {
     "data": {
      "text/plain": [
       "enrollee_id                  0\n",
       "city                         0\n",
       "city_development_index       0\n",
       "gender                    4508\n",
       "relevent_experience          0\n",
       "enrolled_university        386\n",
       "education_level            460\n",
       "major_discipline          2813\n",
       "experience                  65\n",
       "company_size              5938\n",
       "company_type              6140\n",
       "last_new_job               423\n",
       "training_hours               0\n",
       "target                       0\n",
       "dtype: int64"
      ]
     },
     "execution_count": 15,
     "metadata": {},
     "output_type": "execute_result"
    }
   ],
   "source": [
    "df_train.isnull().sum()"
   ]
  },
  {
   "cell_type": "code",
   "execution_count": 16,
   "id": "2d9503b0",
   "metadata": {},
   "outputs": [],
   "source": [
    "tran = support.Transformation(df_train)"
   ]
  },
  {
   "cell_type": "code",
   "execution_count": 44,
   "id": "105f9682",
   "metadata": {},
   "outputs": [],
   "source": [
    "hr = tran.run_process()"
   ]
  },
  {
   "cell_type": "code",
   "execution_count": 45,
   "id": "6317977a",
   "metadata": {},
   "outputs": [
    {
     "data": {
      "text/plain": [
       "enrollee_id               0\n",
       "city                      0\n",
       "city_development_index    0\n",
       "gender                    0\n",
       "relevent_experience       0\n",
       "enrolled_university       0\n",
       "education_level           0\n",
       "major_discipline          0\n",
       "experience                0\n",
       "company_size              0\n",
       "company_type              0\n",
       "last_new_job              0\n",
       "training_hours            0\n",
       "target                    0\n",
       "dtype: int64"
      ]
     },
     "execution_count": 45,
     "metadata": {},
     "output_type": "execute_result"
    }
   ],
   "source": [
    "hr.isnull().sum()"
   ]
  },
  {
   "cell_type": "code",
   "execution_count": 46,
   "id": "3016e698",
   "metadata": {},
   "outputs": [],
   "source": [
    "hr = hr.drop(\"enrollee_id\", axis=1)"
   ]
  },
  {
   "cell_type": "code",
   "execution_count": 47,
   "id": "61a58b7f",
   "metadata": {},
   "outputs": [
    {
     "data": {
      "text/plain": [
       "Index(['city', 'city_development_index', 'gender', 'relevent_experience',\n",
       "       'enrolled_university', 'education_level', 'major_discipline',\n",
       "       'experience', 'company_size', 'company_type', 'last_new_job',\n",
       "       'training_hours', 'target'],\n",
       "      dtype='object')"
      ]
     },
     "execution_count": 47,
     "metadata": {},
     "output_type": "execute_result"
    }
   ],
   "source": [
    "hr.columns"
   ]
  },
  {
   "cell_type": "code",
   "execution_count": 48,
   "id": "7a95c411",
   "metadata": {},
   "outputs": [
    {
     "data": {
      "text/plain": [
       "array([0.776, 0.767, 0.762, 0.92 , 0.913, 0.926, 0.843, 0.624, 0.91 ,\n",
       "       0.923, 0.666, 0.794, 0.924, 0.754, 0.939, 0.887, 0.865, 0.855,\n",
       "       0.827, 0.893, 0.884, 0.866, 0.802, 0.55 , 0.897, 0.925, 0.896,\n",
       "       0.878, 0.693, 0.698, 0.949, 0.789, 0.903, 0.727, 0.64 , 0.516,\n",
       "       0.579, 0.804, 0.743, 0.915, 0.899, 0.836, 0.89 , 0.795, 0.682,\n",
       "       0.558, 0.796, 0.895, 0.769, 0.84 , 0.691, 0.742, 0.555, 0.738,\n",
       "       0.527, 0.921, 0.856, 0.479, 0.73 , 0.764, 0.68 , 0.689, 0.848,\n",
       "       0.722, 0.763, 0.74 , 0.766, 0.788, 0.83 , 0.78 , 0.898, 0.847,\n",
       "       0.556, 0.512, 0.725, 0.739, 0.563, 0.775, 0.647, 0.701, 0.645,\n",
       "       0.824, 0.745, 0.448, 0.735, 0.518, 0.649, 0.781, 0.625, 0.493,\n",
       "       0.487, 0.664, 0.807])"
      ]
     },
     "execution_count": 48,
     "metadata": {},
     "output_type": "execute_result"
    }
   ],
   "source": [
    "hr['city_development_index'].unique()"
   ]
  },
  {
   "cell_type": "code",
   "execution_count": 49,
   "id": "12d87ca2",
   "metadata": {},
   "outputs": [],
   "source": [
    "hr[\"city\"] = pd.qcut(\n",
    "    hr[\"city_development_index\"],\n",
    "    q=[0, 0.25, 0.5, 0.75, 1],\n",
    "    labels=[\"Under_Developed\", \"Developing\", \"Developed\",\"High_Earned\"],\n",
    ")"
   ]
  },
  {
   "cell_type": "code",
   "execution_count": 50,
   "id": "1f1ea696",
   "metadata": {},
   "outputs": [
    {
     "data": {
      "text/plain": [
       "Developed          7024\n",
       "Under_Developed    4838\n",
       "Developing         4759\n",
       "High_Earned        2537\n",
       "Name: city, dtype: int64"
      ]
     },
     "execution_count": 50,
     "metadata": {},
     "output_type": "execute_result"
    }
   ],
   "source": [
    "hr[\"city\"].value_counts()"
   ]
  },
  {
   "cell_type": "code",
   "execution_count": 26,
   "id": "4f88754d",
   "metadata": {},
   "outputs": [],
   "source": [
    "#hr = hr.drop(\"city_development_index\", axis=1)"
   ]
  },
  {
   "cell_type": "code",
   "execution_count": 51,
   "id": "79354bdd",
   "metadata": {},
   "outputs": [
    {
     "data": {
      "text/html": [
       "<div>\n",
       "<style scoped>\n",
       "    .dataframe tbody tr th:only-of-type {\n",
       "        vertical-align: middle;\n",
       "    }\n",
       "\n",
       "    .dataframe tbody tr th {\n",
       "        vertical-align: top;\n",
       "    }\n",
       "\n",
       "    .dataframe thead th {\n",
       "        text-align: right;\n",
       "    }\n",
       "</style>\n",
       "<table border=\"1\" class=\"dataframe\">\n",
       "  <thead>\n",
       "    <tr style=\"text-align: right;\">\n",
       "      <th></th>\n",
       "      <th>city</th>\n",
       "      <th>city_development_index</th>\n",
       "      <th>gender</th>\n",
       "      <th>relevent_experience</th>\n",
       "      <th>enrolled_university</th>\n",
       "      <th>education_level</th>\n",
       "      <th>major_discipline</th>\n",
       "      <th>experience</th>\n",
       "      <th>company_size</th>\n",
       "      <th>company_type</th>\n",
       "      <th>last_new_job</th>\n",
       "      <th>training_hours</th>\n",
       "      <th>target</th>\n",
       "    </tr>\n",
       "  </thead>\n",
       "  <tbody>\n",
       "    <tr>\n",
       "      <th>0</th>\n",
       "      <td>Developing</td>\n",
       "      <td>0.776</td>\n",
       "      <td>Male</td>\n",
       "      <td>No relevent experience</td>\n",
       "      <td>no_enrollment</td>\n",
       "      <td>Graduate</td>\n",
       "      <td>STEM</td>\n",
       "      <td>15</td>\n",
       "      <td>50-99</td>\n",
       "      <td>Pvt Ltd</td>\n",
       "      <td>&gt;4</td>\n",
       "      <td>47</td>\n",
       "      <td>0.0</td>\n",
       "    </tr>\n",
       "    <tr>\n",
       "      <th>1</th>\n",
       "      <td>Developing</td>\n",
       "      <td>0.767</td>\n",
       "      <td>Male</td>\n",
       "      <td>Has relevent experience</td>\n",
       "      <td>no_enrollment</td>\n",
       "      <td>Masters</td>\n",
       "      <td>STEM</td>\n",
       "      <td>&gt;20</td>\n",
       "      <td>50-99</td>\n",
       "      <td>Funded Startup</td>\n",
       "      <td>4</td>\n",
       "      <td>8</td>\n",
       "      <td>0.0</td>\n",
       "    </tr>\n",
       "  </tbody>\n",
       "</table>\n",
       "</div>"
      ],
      "text/plain": [
       "         city  city_development_index gender      relevent_experience  \\\n",
       "0  Developing                   0.776   Male   No relevent experience   \n",
       "1  Developing                   0.767   Male  Has relevent experience   \n",
       "\n",
       "  enrolled_university education_level major_discipline experience  \\\n",
       "0       no_enrollment        Graduate             STEM         15   \n",
       "1       no_enrollment         Masters             STEM        >20   \n",
       "\n",
       "  company_size    company_type last_new_job  training_hours  target  \n",
       "0        50-99         Pvt Ltd           >4              47     0.0  \n",
       "1        50-99  Funded Startup            4               8     0.0  "
      ]
     },
     "execution_count": 51,
     "metadata": {},
     "output_type": "execute_result"
    }
   ],
   "source": [
    "hr.head(2)"
   ]
  },
  {
   "cell_type": "code",
   "execution_count": 52,
   "id": "d8a155ad",
   "metadata": {
    "scrolled": true
   },
   "outputs": [
    {
     "data": {
      "image/png": "[encoded data removed]",
      "text/plain": [
       "<Figure size 700x500 with 1 Axes>"
      ]
     },
     "metadata": {},
     "output_type": "display_data"
    }
   ],
   "source": [
    "support.labeled_barplot(hr,\"company_type\",perc=True)"
   ]
  },
  {
   "cell_type": "code",
   "execution_count": 53,
   "id": "62e9a60a",
   "metadata": {},
   "outputs": [],
   "source": [
    "import matplotlib.pyplot as plt"
   ]
  },
  {
   "cell_type": "code",
   "execution_count": 54,
   "id": "08690ddc",
   "metadata": {
    "scrolled": true
   },
   "outputs": [
    {
     "data": {
      "image/png": "[encoded data removed]",
      "text/plain": [
       "<Figure size 1500x700 with 2 Axes>"
      ]
     },
     "metadata": {},
     "output_type": "display_data"
    }
   ],
   "source": [
    "plt.figure(figsize=(15, 7))\n",
    "sns.heatmap(hr.corr(), annot=True, vmin=-1, vmax=1, fmt=\".2f\", cmap=\"Spectral\")\n",
    "plt.show()"
   ]
  },
  {
   "cell_type": "code",
   "execution_count": 26,
   "id": "c46f7a19",
   "metadata": {},
   "outputs": [
    {
     "data": {
      "image/png": "[encoded data removed]",
      "text/plain": [
       "<Figure size 750x750 with 12 Axes>"
      ]
     },
     "metadata": {},
     "output_type": "display_data"
    }
   ],
   "source": [
    "sns.pairplot(data=hr, diag_kind=\"kde\")\n",
    "plt.show()"
   ]
  },
  {
   "cell_type": "markdown",
   "id": "d60a73de",
   "metadata": {},
   "source": [
    "#pip install pivottablejs"
   ]
  },
  {
   "cell_type": "code",
   "execution_count": 55,
   "id": "eb5c863a",
   "metadata": {
    "scrolled": true
   },
   "outputs": [
    {
     "data": {
      "text/html": [
       "\n",
       "        <iframe\n",
       "            width=\"100%\"\n",
       "            height=\"500\"\n",
       "            src=\"pivottablejs.html\"\n",
       "            frameborder=\"0\"\n",
       "            allowfullscreen\n",
       "            \n",
       "        ></iframe>\n",
       "        "
      ],
      "text/plain": [
       "<IPython.lib.display.IFrame at 0x2605a61f970>"
      ]
     },
     "execution_count": 55,
     "metadata": {},
     "output_type": "execute_result"
    }
   ],
   "source": [
    "from pivottablejs import pivot_ui\n",
    "\n",
    "pivot_ui(hr)"
   ]
  },
  {
   "cell_type": "code",
   "execution_count": null,
   "id": "c613c8a8",
   "metadata": {},
   "outputs": [],
   "source": []
  },
  {
   "cell_type": "code",
   "execution_count": 33,
   "id": "e59474ea",
   "metadata": {},
   "outputs": [],
   "source": [
    "from sklearn.preprocessing import LabelEncoder"
   ]
  },
  {
   "cell_type": "code",
   "execution_count": 34,
   "id": "2a86c15c",
   "metadata": {},
   "outputs": [
    {
     "data": {
      "text/plain": [
       "Index(['city', 'gender', 'relevent_experience', 'enrolled_university',\n",
       "       'education_level', 'major_discipline', 'experience', 'company_size',\n",
       "       'company_type', 'last_new_job', 'training_hours', 'target'],\n",
       "      dtype='object')"
      ]
     },
     "execution_count": 34,
     "metadata": {},
     "output_type": "execute_result"
    }
   ],
   "source": [
    "hr.columns"
   ]
  },
  {
   "cell_type": "code",
   "execution_count": 56,
   "id": "d8ee1cb7",
   "metadata": {},
   "outputs": [],
   "source": [
    "encoder = LabelEncoder()\n",
    "\n",
    "hr['relevent_experience'] = encoder.fit_transform(hr['relevent_experience'])\n",
    "hr['experience'] = encoder.fit_transform(hr['experience'])\n",
    "hr['company_size'] = encoder.fit_transform(hr['company_size'])\n",
    "hr['company_type'] = encoder.fit_transform(hr['company_type'])\n",
    "hr['last_new_job'] = encoder.fit_transform(hr['last_new_job'])"
   ]
  },
  {
   "cell_type": "code",
   "execution_count": 57,
   "id": "838639ca",
   "metadata": {
    "scrolled": true
   },
   "outputs": [
    {
     "data": {
      "text/html": [
       "<div>\n",
       "<style scoped>\n",
       "    .dataframe tbody tr th:only-of-type {\n",
       "        vertical-align: middle;\n",
       "    }\n",
       "\n",
       "    .dataframe tbody tr th {\n",
       "        vertical-align: top;\n",
       "    }\n",
       "\n",
       "    .dataframe thead th {\n",
       "        text-align: right;\n",
       "    }\n",
       "</style>\n",
       "<table border=\"1\" class=\"dataframe\">\n",
       "  <thead>\n",
       "    <tr style=\"text-align: right;\">\n",
       "      <th></th>\n",
       "      <th>city</th>\n",
       "      <th>city_development_index</th>\n",
       "      <th>gender</th>\n",
       "      <th>relevent_experience</th>\n",
       "      <th>enrolled_university</th>\n",
       "      <th>education_level</th>\n",
       "      <th>major_discipline</th>\n",
       "      <th>experience</th>\n",
       "      <th>company_size</th>\n",
       "      <th>company_type</th>\n",
       "      <th>last_new_job</th>\n",
       "      <th>training_hours</th>\n",
       "      <th>target</th>\n",
       "    </tr>\n",
       "  </thead>\n",
       "  <tbody>\n",
       "    <tr>\n",
       "      <th>0</th>\n",
       "      <td>Developing</td>\n",
       "      <td>0.776</td>\n",
       "      <td>Male</td>\n",
       "      <td>1</td>\n",
       "      <td>no_enrollment</td>\n",
       "      <td>Graduate</td>\n",
       "      <td>STEM</td>\n",
       "      <td>6</td>\n",
       "      <td>4</td>\n",
       "      <td>5</td>\n",
       "      <td>4</td>\n",
       "      <td>47</td>\n",
       "      <td>0.0</td>\n",
       "    </tr>\n",
       "    <tr>\n",
       "      <th>1</th>\n",
       "      <td>Developing</td>\n",
       "      <td>0.767</td>\n",
       "      <td>Male</td>\n",
       "      <td>0</td>\n",
       "      <td>no_enrollment</td>\n",
       "      <td>Masters</td>\n",
       "      <td>STEM</td>\n",
       "      <td>21</td>\n",
       "      <td>4</td>\n",
       "      <td>1</td>\n",
       "      <td>3</td>\n",
       "      <td>8</td>\n",
       "      <td>0.0</td>\n",
       "    </tr>\n",
       "  </tbody>\n",
       "</table>\n",
       "</div>"
      ],
      "text/plain": [
       "         city  city_development_index gender  relevent_experience  \\\n",
       "0  Developing                   0.776   Male                    1   \n",
       "1  Developing                   0.767   Male                    0   \n",
       "\n",
       "  enrolled_university education_level major_discipline  experience  \\\n",
       "0       no_enrollment        Graduate             STEM           6   \n",
       "1       no_enrollment         Masters             STEM          21   \n",
       "\n",
       "   company_size  company_type  last_new_job  training_hours  target  \n",
       "0             4             5             4              47     0.0  \n",
       "1             4             1             3               8     0.0  "
      ]
     },
     "execution_count": 57,
     "metadata": {},
     "output_type": "execute_result"
    }
   ],
   "source": [
    "hr.head(2)"
   ]
  },
  {
   "cell_type": "code",
   "execution_count": 58,
   "id": "b6044de9",
   "metadata": {},
   "outputs": [],
   "source": [
    "encoded_df = pd.get_dummies(hr, columns=['city', 'gender',\n",
    "       'enrolled_university', 'education_level'])\n"
   ]
  },
  {
   "cell_type": "code",
   "execution_count": 59,
   "id": "cb6e9985",
   "metadata": {
    "scrolled": true
   },
   "outputs": [
    {
     "data": {
      "text/html": [
       "<div>\n",
       "<style scoped>\n",
       "    .dataframe tbody tr th:only-of-type {\n",
       "        vertical-align: middle;\n",
       "    }\n",
       "\n",
       "    .dataframe tbody tr th {\n",
       "        vertical-align: top;\n",
       "    }\n",
       "\n",
       "    .dataframe thead th {\n",
       "        text-align: right;\n",
       "    }\n",
       "</style>\n",
       "<table border=\"1\" class=\"dataframe\">\n",
       "  <thead>\n",
       "    <tr style=\"text-align: right;\">\n",
       "      <th></th>\n",
       "      <th>city_development_index</th>\n",
       "      <th>relevent_experience</th>\n",
       "      <th>major_discipline</th>\n",
       "      <th>experience</th>\n",
       "      <th>company_size</th>\n",
       "      <th>company_type</th>\n",
       "      <th>last_new_job</th>\n",
       "      <th>training_hours</th>\n",
       "      <th>target</th>\n",
       "      <th>city_Under_Developed</th>\n",
       "      <th>...</th>\n",
       "      <th>gender_Male</th>\n",
       "      <th>gender_Other</th>\n",
       "      <th>enrolled_university_Full time course</th>\n",
       "      <th>enrolled_university_Part time course</th>\n",
       "      <th>enrolled_university_no_enrollment</th>\n",
       "      <th>education_level_Graduate</th>\n",
       "      <th>education_level_High School</th>\n",
       "      <th>education_level_Masters</th>\n",
       "      <th>education_level_Phd</th>\n",
       "      <th>education_level_Primary School</th>\n",
       "    </tr>\n",
       "  </thead>\n",
       "  <tbody>\n",
       "    <tr>\n",
       "      <th>0</th>\n",
       "      <td>0.776</td>\n",
       "      <td>1</td>\n",
       "      <td>STEM</td>\n",
       "      <td>6</td>\n",
       "      <td>4</td>\n",
       "      <td>5</td>\n",
       "      <td>4</td>\n",
       "      <td>47</td>\n",
       "      <td>0.0</td>\n",
       "      <td>0</td>\n",
       "      <td>...</td>\n",
       "      <td>1</td>\n",
       "      <td>0</td>\n",
       "      <td>0</td>\n",
       "      <td>0</td>\n",
       "      <td>1</td>\n",
       "      <td>1</td>\n",
       "      <td>0</td>\n",
       "      <td>0</td>\n",
       "      <td>0</td>\n",
       "      <td>0</td>\n",
       "    </tr>\n",
       "    <tr>\n",
       "      <th>1</th>\n",
       "      <td>0.767</td>\n",
       "      <td>0</td>\n",
       "      <td>STEM</td>\n",
       "      <td>21</td>\n",
       "      <td>4</td>\n",
       "      <td>1</td>\n",
       "      <td>3</td>\n",
       "      <td>8</td>\n",
       "      <td>0.0</td>\n",
       "      <td>0</td>\n",
       "      <td>...</td>\n",
       "      <td>1</td>\n",
       "      <td>0</td>\n",
       "      <td>0</td>\n",
       "      <td>0</td>\n",
       "      <td>1</td>\n",
       "      <td>0</td>\n",
       "      <td>0</td>\n",
       "      <td>1</td>\n",
       "      <td>0</td>\n",
       "      <td>0</td>\n",
       "    </tr>\n",
       "    <tr>\n",
       "      <th>2</th>\n",
       "      <td>0.762</td>\n",
       "      <td>0</td>\n",
       "      <td>STEM</td>\n",
       "      <td>4</td>\n",
       "      <td>7</td>\n",
       "      <td>5</td>\n",
       "      <td>4</td>\n",
       "      <td>18</td>\n",
       "      <td>1.0</td>\n",
       "      <td>0</td>\n",
       "      <td>...</td>\n",
       "      <td>1</td>\n",
       "      <td>0</td>\n",
       "      <td>0</td>\n",
       "      <td>0</td>\n",
       "      <td>1</td>\n",
       "      <td>1</td>\n",
       "      <td>0</td>\n",
       "      <td>0</td>\n",
       "      <td>0</td>\n",
       "      <td>0</td>\n",
       "    </tr>\n",
       "    <tr>\n",
       "      <th>3</th>\n",
       "      <td>0.920</td>\n",
       "      <td>0</td>\n",
       "      <td>STEM</td>\n",
       "      <td>17</td>\n",
       "      <td>4</td>\n",
       "      <td>5</td>\n",
       "      <td>0</td>\n",
       "      <td>46</td>\n",
       "      <td>1.0</td>\n",
       "      <td>0</td>\n",
       "      <td>...</td>\n",
       "      <td>1</td>\n",
       "      <td>0</td>\n",
       "      <td>0</td>\n",
       "      <td>0</td>\n",
       "      <td>1</td>\n",
       "      <td>1</td>\n",
       "      <td>0</td>\n",
       "      <td>0</td>\n",
       "      <td>0</td>\n",
       "      <td>0</td>\n",
       "    </tr>\n",
       "    <tr>\n",
       "      <th>4</th>\n",
       "      <td>0.920</td>\n",
       "      <td>0</td>\n",
       "      <td>STEM</td>\n",
       "      <td>15</td>\n",
       "      <td>6</td>\n",
       "      <td>5</td>\n",
       "      <td>0</td>\n",
       "      <td>108</td>\n",
       "      <td>0.0</td>\n",
       "      <td>0</td>\n",
       "      <td>...</td>\n",
       "      <td>1</td>\n",
       "      <td>0</td>\n",
       "      <td>0</td>\n",
       "      <td>0</td>\n",
       "      <td>1</td>\n",
       "      <td>1</td>\n",
       "      <td>0</td>\n",
       "      <td>0</td>\n",
       "      <td>0</td>\n",
       "      <td>0</td>\n",
       "    </tr>\n",
       "  </tbody>\n",
       "</table>\n",
       "<p>5 rows × 24 columns</p>\n",
       "</div>"
      ],
      "text/plain": [
       "   city_development_index  relevent_experience major_discipline  experience  \\\n",
       "0                   0.776                    1             STEM           6   \n",
       "1                   0.767                    0             STEM          21   \n",
       "2                   0.762                    0             STEM           4   \n",
       "3                   0.920                    0             STEM          17   \n",
       "4                   0.920                    0             STEM          15   \n",
       "\n",
       "   company_size  company_type  last_new_job  training_hours  target  \\\n",
       "0             4             5             4              47     0.0   \n",
       "1             4             1             3               8     0.0   \n",
       "2             7             5             4              18     1.0   \n",
       "3             4             5             0              46     1.0   \n",
       "4             6             5             0             108     0.0   \n",
       "\n",
       "   city_Under_Developed  ...  gender_Male  gender_Other  \\\n",
       "0                     0  ...            1             0   \n",
       "1                     0  ...            1             0   \n",
       "2                     0  ...            1             0   \n",
       "3                     0  ...            1             0   \n",
       "4                     0  ...            1             0   \n",
       "\n",
       "   enrolled_university_Full time course  enrolled_university_Part time course  \\\n",
       "0                                     0                                     0   \n",
       "1                                     0                                     0   \n",
       "2                                     0                                     0   \n",
       "3                                     0                                     0   \n",
       "4                                     0                                     0   \n",
       "\n",
       "   enrolled_university_no_enrollment  education_level_Graduate  \\\n",
       "0                                  1                         1   \n",
       "1                                  1                         0   \n",
       "2                                  1                         1   \n",
       "3                                  1                         1   \n",
       "4                                  1                         1   \n",
       "\n",
       "   education_level_High School  education_level_Masters  education_level_Phd  \\\n",
       "0                            0                        0                    0   \n",
       "1                            0                        1                    0   \n",
       "2                            0                        0                    0   \n",
       "3                            0                        0                    0   \n",
       "4                            0                        0                    0   \n",
       "\n",
       "   education_level_Primary School  \n",
       "0                               0  \n",
       "1                               0  \n",
       "2                               0  \n",
       "3                               0  \n",
       "4                               0  \n",
       "\n",
       "[5 rows x 24 columns]"
      ]
     },
     "execution_count": 59,
     "metadata": {},
     "output_type": "execute_result"
    }
   ],
   "source": [
    "encoded_df.head()"
   ]
  },
  {
   "cell_type": "code",
   "execution_count": null,
   "id": "a6fe3f06",
   "metadata": {},
   "outputs": [],
   "source": []
  },
  {
   "cell_type": "code",
   "execution_count": null,
   "id": "31008a27",
   "metadata": {},
   "outputs": [],
   "source": []
  },
  {
   "cell_type": "code",
   "execution_count": 60,
   "id": "c1e0d1b5",
   "metadata": {},
   "outputs": [
    {
     "name": "stdout",
     "output_type": "stream",
     "text": [
      "Requirement already satisfied: torch in c:\\users\\nathaniel\\anaconda3\\lib\\site-packages (2.0.1)\n",
      "Requirement already satisfied: typing-extensions in c:\\users\\nathaniel\\anaconda3\\lib\\site-packages (from torch) (4.3.0)\n",
      "Requirement already satisfied: networkx in c:\\users\\nathaniel\\anaconda3\\lib\\site-packages (from torch) (2.8.4)\n",
      "Requirement already satisfied: filelock in c:\\users\\nathaniel\\anaconda3\\lib\\site-packages (from torch) (3.6.0)\n",
      "Requirement already satisfied: jinja2 in c:\\users\\nathaniel\\anaconda3\\lib\\site-packages (from torch) (2.11.3)\n",
      "Requirement already satisfied: sympy in c:\\users\\nathaniel\\anaconda3\\lib\\site-packages (from torch) (1.10.1)\n",
      "Requirement already satisfied: MarkupSafe>=0.23 in c:\\users\\nathaniel\\anaconda3\\lib\\site-packages (from jinja2->torch) (2.0.1)\n",
      "Requirement already satisfied: mpmath>=0.19 in c:\\users\\nathaniel\\anaconda3\\lib\\site-packages (from sympy->torch) (1.2.1)\n",
      "Note: you may need to restart the kernel to use updated packages.\n"
     ]
    }
   ],
   "source": [
    "pip install torch"
   ]
  },
  {
   "cell_type": "code",
   "execution_count": 61,
   "id": "ff09891c",
   "metadata": {},
   "outputs": [],
   "source": [
    "from torch.nn import Embedding\n",
    "import torch"
   ]
  },
  {
   "cell_type": "code",
   "execution_count": 62,
   "id": "e4f45920",
   "metadata": {},
   "outputs": [],
   "source": [
    "import numpy as np"
   ]
  },
  {
   "cell_type": "code",
   "execution_count": 68,
   "id": "88afdaaf",
   "metadata": {},
   "outputs": [],
   "source": [
    "def create(encoder_list):\n",
    "    # an Embedding module containing 10 tensors of size 3\n",
    "    embedding = Embedding(20, 3)\n",
    "    # a batch of 2 samples of 4 indices eac\n",
    "\n",
    "    #label_encoder = [1, 2, 3, 4]\n",
    "    inp = torch.LongTensor([encoder_list])\n",
    "    out = embedding(inp)\n",
    "   \n",
    "    def get_embedding(val):\n",
    "        lis = list(torch.detach(out).numpy()[0, encoder_list.index(val)])\n",
    "        return lis\n",
    "    return get_embedding"
   ]
  },
  {
   "cell_type": "code",
   "execution_count": 69,
   "id": "914c3fbf",
   "metadata": {},
   "outputs": [],
   "source": [
    "def powers(val):\n",
    "    v = get(val)\n",
    "    return v[0], v[1], v[2]"
   ]
  },
  {
   "cell_type": "code",
   "execution_count": 63,
   "id": "3f045508",
   "metadata": {},
   "outputs": [
    {
     "data": {
      "text/plain": [
       "array(['STEM', 'Humanities', 'Business Degree', 'Other', 'No Major',\n",
       "       'Arts'], dtype=object)"
      ]
     },
     "execution_count": 63,
     "metadata": {},
     "output_type": "execute_result"
    }
   ],
   "source": [
    "encoded_df['major_discipline'].unique()"
   ]
  },
  {
   "cell_type": "code",
   "execution_count": 64,
   "id": "dc78d663",
   "metadata": {},
   "outputs": [],
   "source": [
    "dic = {'STEM': 0, 'Humanities': 1, 'Business Degree': 2, 'Other': 3, 'No Major': 4, 'Arts': 5}"
   ]
  },
  {
   "cell_type": "code",
   "execution_count": 65,
   "id": "f5c3b4a4",
   "metadata": {},
   "outputs": [],
   "source": [
    "encoded_df['major_discipline'] = encoded_df['major_discipline'].apply(lambda x: dic[x])"
   ]
  },
  {
   "cell_type": "code",
   "execution_count": 66,
   "id": "a9ee4a42",
   "metadata": {},
   "outputs": [
    {
     "data": {
      "text/html": [
       "<div>\n",
       "<style scoped>\n",
       "    .dataframe tbody tr th:only-of-type {\n",
       "        vertical-align: middle;\n",
       "    }\n",
       "\n",
       "    .dataframe tbody tr th {\n",
       "        vertical-align: top;\n",
       "    }\n",
       "\n",
       "    .dataframe thead th {\n",
       "        text-align: right;\n",
       "    }\n",
       "</style>\n",
       "<table border=\"1\" class=\"dataframe\">\n",
       "  <thead>\n",
       "    <tr style=\"text-align: right;\">\n",
       "      <th></th>\n",
       "      <th>city_development_index</th>\n",
       "      <th>relevent_experience</th>\n",
       "      <th>major_discipline</th>\n",
       "      <th>experience</th>\n",
       "      <th>company_size</th>\n",
       "      <th>company_type</th>\n",
       "      <th>last_new_job</th>\n",
       "      <th>training_hours</th>\n",
       "      <th>target</th>\n",
       "      <th>city_Under_Developed</th>\n",
       "      <th>...</th>\n",
       "      <th>gender_Male</th>\n",
       "      <th>gender_Other</th>\n",
       "      <th>enrolled_university_Full time course</th>\n",
       "      <th>enrolled_university_Part time course</th>\n",
       "      <th>enrolled_university_no_enrollment</th>\n",
       "      <th>education_level_Graduate</th>\n",
       "      <th>education_level_High School</th>\n",
       "      <th>education_level_Masters</th>\n",
       "      <th>education_level_Phd</th>\n",
       "      <th>education_level_Primary School</th>\n",
       "    </tr>\n",
       "  </thead>\n",
       "  <tbody>\n",
       "    <tr>\n",
       "      <th>0</th>\n",
       "      <td>0.776</td>\n",
       "      <td>1</td>\n",
       "      <td>0</td>\n",
       "      <td>6</td>\n",
       "      <td>4</td>\n",
       "      <td>5</td>\n",
       "      <td>4</td>\n",
       "      <td>47</td>\n",
       "      <td>0.0</td>\n",
       "      <td>0</td>\n",
       "      <td>...</td>\n",
       "      <td>1</td>\n",
       "      <td>0</td>\n",
       "      <td>0</td>\n",
       "      <td>0</td>\n",
       "      <td>1</td>\n",
       "      <td>1</td>\n",
       "      <td>0</td>\n",
       "      <td>0</td>\n",
       "      <td>0</td>\n",
       "      <td>0</td>\n",
       "    </tr>\n",
       "    <tr>\n",
       "      <th>1</th>\n",
       "      <td>0.767</td>\n",
       "      <td>0</td>\n",
       "      <td>0</td>\n",
       "      <td>21</td>\n",
       "      <td>4</td>\n",
       "      <td>1</td>\n",
       "      <td>3</td>\n",
       "      <td>8</td>\n",
       "      <td>0.0</td>\n",
       "      <td>0</td>\n",
       "      <td>...</td>\n",
       "      <td>1</td>\n",
       "      <td>0</td>\n",
       "      <td>0</td>\n",
       "      <td>0</td>\n",
       "      <td>1</td>\n",
       "      <td>0</td>\n",
       "      <td>0</td>\n",
       "      <td>1</td>\n",
       "      <td>0</td>\n",
       "      <td>0</td>\n",
       "    </tr>\n",
       "    <tr>\n",
       "      <th>2</th>\n",
       "      <td>0.762</td>\n",
       "      <td>0</td>\n",
       "      <td>0</td>\n",
       "      <td>4</td>\n",
       "      <td>7</td>\n",
       "      <td>5</td>\n",
       "      <td>4</td>\n",
       "      <td>18</td>\n",
       "      <td>1.0</td>\n",
       "      <td>0</td>\n",
       "      <td>...</td>\n",
       "      <td>1</td>\n",
       "      <td>0</td>\n",
       "      <td>0</td>\n",
       "      <td>0</td>\n",
       "      <td>1</td>\n",
       "      <td>1</td>\n",
       "      <td>0</td>\n",
       "      <td>0</td>\n",
       "      <td>0</td>\n",
       "      <td>0</td>\n",
       "    </tr>\n",
       "    <tr>\n",
       "      <th>3</th>\n",
       "      <td>0.920</td>\n",
       "      <td>0</td>\n",
       "      <td>0</td>\n",
       "      <td>17</td>\n",
       "      <td>4</td>\n",
       "      <td>5</td>\n",
       "      <td>0</td>\n",
       "      <td>46</td>\n",
       "      <td>1.0</td>\n",
       "      <td>0</td>\n",
       "      <td>...</td>\n",
       "      <td>1</td>\n",
       "      <td>0</td>\n",
       "      <td>0</td>\n",
       "      <td>0</td>\n",
       "      <td>1</td>\n",
       "      <td>1</td>\n",
       "      <td>0</td>\n",
       "      <td>0</td>\n",
       "      <td>0</td>\n",
       "      <td>0</td>\n",
       "    </tr>\n",
       "    <tr>\n",
       "      <th>4</th>\n",
       "      <td>0.920</td>\n",
       "      <td>0</td>\n",
       "      <td>0</td>\n",
       "      <td>15</td>\n",
       "      <td>6</td>\n",
       "      <td>5</td>\n",
       "      <td>0</td>\n",
       "      <td>108</td>\n",
       "      <td>0.0</td>\n",
       "      <td>0</td>\n",
       "      <td>...</td>\n",
       "      <td>1</td>\n",
       "      <td>0</td>\n",
       "      <td>0</td>\n",
       "      <td>0</td>\n",
       "      <td>1</td>\n",
       "      <td>1</td>\n",
       "      <td>0</td>\n",
       "      <td>0</td>\n",
       "      <td>0</td>\n",
       "      <td>0</td>\n",
       "    </tr>\n",
       "  </tbody>\n",
       "</table>\n",
       "<p>5 rows × 24 columns</p>\n",
       "</div>"
      ],
      "text/plain": [
       "   city_development_index  relevent_experience  major_discipline  experience  \\\n",
       "0                   0.776                    1                 0           6   \n",
       "1                   0.767                    0                 0          21   \n",
       "2                   0.762                    0                 0           4   \n",
       "3                   0.920                    0                 0          17   \n",
       "4                   0.920                    0                 0          15   \n",
       "\n",
       "   company_size  company_type  last_new_job  training_hours  target  \\\n",
       "0             4             5             4              47     0.0   \n",
       "1             4             1             3               8     0.0   \n",
       "2             7             5             4              18     1.0   \n",
       "3             4             5             0              46     1.0   \n",
       "4             6             5             0             108     0.0   \n",
       "\n",
       "   city_Under_Developed  ...  gender_Male  gender_Other  \\\n",
       "0                     0  ...            1             0   \n",
       "1                     0  ...            1             0   \n",
       "2                     0  ...            1             0   \n",
       "3                     0  ...            1             0   \n",
       "4                     0  ...            1             0   \n",
       "\n",
       "   enrolled_university_Full time course  enrolled_university_Part time course  \\\n",
       "0                                     0                                     0   \n",
       "1                                     0                                     0   \n",
       "2                                     0                                     0   \n",
       "3                                     0                                     0   \n",
       "4                                     0                                     0   \n",
       "\n",
       "   enrolled_university_no_enrollment  education_level_Graduate  \\\n",
       "0                                  1                         1   \n",
       "1                                  1                         0   \n",
       "2                                  1                         1   \n",
       "3                                  1                         1   \n",
       "4                                  1                         1   \n",
       "\n",
       "   education_level_High School  education_level_Masters  education_level_Phd  \\\n",
       "0                            0                        0                    0   \n",
       "1                            0                        1                    0   \n",
       "2                            0                        0                    0   \n",
       "3                            0                        0                    0   \n",
       "4                            0                        0                    0   \n",
       "\n",
       "   education_level_Primary School  \n",
       "0                               0  \n",
       "1                               0  \n",
       "2                               0  \n",
       "3                               0  \n",
       "4                               0  \n",
       "\n",
       "[5 rows x 24 columns]"
      ]
     },
     "execution_count": 66,
     "metadata": {},
     "output_type": "execute_result"
    }
   ],
   "source": [
    "encoded_df.head()"
   ]
  },
  {
   "cell_type": "code",
   "execution_count": 70,
   "id": "55a2ac5e",
   "metadata": {},
   "outputs": [],
   "source": [
    "get = create(list(set(encoded_df['major_discipline'].unique())))"
   ]
  },
  {
   "cell_type": "code",
   "execution_count": 71,
   "id": "c593423c",
   "metadata": {},
   "outputs": [],
   "source": [
    "encoded_df['major_discipline1'], encoded_df['major_discipline2'], encoded_df['major_discipline3'] = zip(*encoded_df['major_discipline'].map(powers))"
   ]
  },
  {
   "cell_type": "code",
   "execution_count": 72,
   "id": "f444e35e",
   "metadata": {},
   "outputs": [
    {
     "data": {
      "text/html": [
       "<div>\n",
       "<style scoped>\n",
       "    .dataframe tbody tr th:only-of-type {\n",
       "        vertical-align: middle;\n",
       "    }\n",
       "\n",
       "    .dataframe tbody tr th {\n",
       "        vertical-align: top;\n",
       "    }\n",
       "\n",
       "    .dataframe thead th {\n",
       "        text-align: right;\n",
       "    }\n",
       "</style>\n",
       "<table border=\"1\" class=\"dataframe\">\n",
       "  <thead>\n",
       "    <tr style=\"text-align: right;\">\n",
       "      <th></th>\n",
       "      <th>city_development_index</th>\n",
       "      <th>relevent_experience</th>\n",
       "      <th>major_discipline</th>\n",
       "      <th>experience</th>\n",
       "      <th>company_size</th>\n",
       "      <th>company_type</th>\n",
       "      <th>last_new_job</th>\n",
       "      <th>training_hours</th>\n",
       "      <th>target</th>\n",
       "      <th>city_Under_Developed</th>\n",
       "      <th>...</th>\n",
       "      <th>enrolled_university_Part time course</th>\n",
       "      <th>enrolled_university_no_enrollment</th>\n",
       "      <th>education_level_Graduate</th>\n",
       "      <th>education_level_High School</th>\n",
       "      <th>education_level_Masters</th>\n",
       "      <th>education_level_Phd</th>\n",
       "      <th>education_level_Primary School</th>\n",
       "      <th>major_discipline1</th>\n",
       "      <th>major_discipline2</th>\n",
       "      <th>major_discipline3</th>\n",
       "    </tr>\n",
       "  </thead>\n",
       "  <tbody>\n",
       "    <tr>\n",
       "      <th>0</th>\n",
       "      <td>0.776</td>\n",
       "      <td>1</td>\n",
       "      <td>0</td>\n",
       "      <td>6</td>\n",
       "      <td>4</td>\n",
       "      <td>5</td>\n",
       "      <td>4</td>\n",
       "      <td>47</td>\n",
       "      <td>0.0</td>\n",
       "      <td>0</td>\n",
       "      <td>...</td>\n",
       "      <td>0</td>\n",
       "      <td>1</td>\n",
       "      <td>1</td>\n",
       "      <td>0</td>\n",
       "      <td>0</td>\n",
       "      <td>0</td>\n",
       "      <td>0</td>\n",
       "      <td>0.411135</td>\n",
       "      <td>1.717199</td>\n",
       "      <td>0.383905</td>\n",
       "    </tr>\n",
       "    <tr>\n",
       "      <th>1</th>\n",
       "      <td>0.767</td>\n",
       "      <td>0</td>\n",
       "      <td>0</td>\n",
       "      <td>21</td>\n",
       "      <td>4</td>\n",
       "      <td>1</td>\n",
       "      <td>3</td>\n",
       "      <td>8</td>\n",
       "      <td>0.0</td>\n",
       "      <td>0</td>\n",
       "      <td>...</td>\n",
       "      <td>0</td>\n",
       "      <td>1</td>\n",
       "      <td>0</td>\n",
       "      <td>0</td>\n",
       "      <td>1</td>\n",
       "      <td>0</td>\n",
       "      <td>0</td>\n",
       "      <td>0.411135</td>\n",
       "      <td>1.717199</td>\n",
       "      <td>0.383905</td>\n",
       "    </tr>\n",
       "    <tr>\n",
       "      <th>2</th>\n",
       "      <td>0.762</td>\n",
       "      <td>0</td>\n",
       "      <td>0</td>\n",
       "      <td>4</td>\n",
       "      <td>7</td>\n",
       "      <td>5</td>\n",
       "      <td>4</td>\n",
       "      <td>18</td>\n",
       "      <td>1.0</td>\n",
       "      <td>0</td>\n",
       "      <td>...</td>\n",
       "      <td>0</td>\n",
       "      <td>1</td>\n",
       "      <td>1</td>\n",
       "      <td>0</td>\n",
       "      <td>0</td>\n",
       "      <td>0</td>\n",
       "      <td>0</td>\n",
       "      <td>0.411135</td>\n",
       "      <td>1.717199</td>\n",
       "      <td>0.383905</td>\n",
       "    </tr>\n",
       "    <tr>\n",
       "      <th>3</th>\n",
       "      <td>0.920</td>\n",
       "      <td>0</td>\n",
       "      <td>0</td>\n",
       "      <td>17</td>\n",
       "      <td>4</td>\n",
       "      <td>5</td>\n",
       "      <td>0</td>\n",
       "      <td>46</td>\n",
       "      <td>1.0</td>\n",
       "      <td>0</td>\n",
       "      <td>...</td>\n",
       "      <td>0</td>\n",
       "      <td>1</td>\n",
       "      <td>1</td>\n",
       "      <td>0</td>\n",
       "      <td>0</td>\n",
       "      <td>0</td>\n",
       "      <td>0</td>\n",
       "      <td>0.411135</td>\n",
       "      <td>1.717199</td>\n",
       "      <td>0.383905</td>\n",
       "    </tr>\n",
       "    <tr>\n",
       "      <th>4</th>\n",
       "      <td>0.920</td>\n",
       "      <td>0</td>\n",
       "      <td>0</td>\n",
       "      <td>15</td>\n",
       "      <td>6</td>\n",
       "      <td>5</td>\n",
       "      <td>0</td>\n",
       "      <td>108</td>\n",
       "      <td>0.0</td>\n",
       "      <td>0</td>\n",
       "      <td>...</td>\n",
       "      <td>0</td>\n",
       "      <td>1</td>\n",
       "      <td>1</td>\n",
       "      <td>0</td>\n",
       "      <td>0</td>\n",
       "      <td>0</td>\n",
       "      <td>0</td>\n",
       "      <td>0.411135</td>\n",
       "      <td>1.717199</td>\n",
       "      <td>0.383905</td>\n",
       "    </tr>\n",
       "  </tbody>\n",
       "</table>\n",
       "<p>5 rows × 27 columns</p>\n",
       "</div>"
      ],
      "text/plain": [
       "   city_development_index  relevent_experience  major_discipline  experience  \\\n",
       "0                   0.776                    1                 0           6   \n",
       "1                   0.767                    0                 0          21   \n",
       "2                   0.762                    0                 0           4   \n",
       "3                   0.920                    0                 0          17   \n",
       "4                   0.920                    0                 0          15   \n",
       "\n",
       "   company_size  company_type  last_new_job  training_hours  target  \\\n",
       "0             4             5             4              47     0.0   \n",
       "1             4             1             3               8     0.0   \n",
       "2             7             5             4              18     1.0   \n",
       "3             4             5             0              46     1.0   \n",
       "4             6             5             0             108     0.0   \n",
       "\n",
       "   city_Under_Developed  ...  enrolled_university_Part time course  \\\n",
       "0                     0  ...                                     0   \n",
       "1                     0  ...                                     0   \n",
       "2                     0  ...                                     0   \n",
       "3                     0  ...                                     0   \n",
       "4                     0  ...                                     0   \n",
       "\n",
       "   enrolled_university_no_enrollment  education_level_Graduate  \\\n",
       "0                                  1                         1   \n",
       "1                                  1                         0   \n",
       "2                                  1                         1   \n",
       "3                                  1                         1   \n",
       "4                                  1                         1   \n",
       "\n",
       "   education_level_High School  education_level_Masters  education_level_Phd  \\\n",
       "0                            0                        0                    0   \n",
       "1                            0                        1                    0   \n",
       "2                            0                        0                    0   \n",
       "3                            0                        0                    0   \n",
       "4                            0                        0                    0   \n",
       "\n",
       "   education_level_Primary School  major_discipline1  major_discipline2  \\\n",
       "0                               0           0.411135           1.717199   \n",
       "1                               0           0.411135           1.717199   \n",
       "2                               0           0.411135           1.717199   \n",
       "3                               0           0.411135           1.717199   \n",
       "4                               0           0.411135           1.717199   \n",
       "\n",
       "   major_discipline3  \n",
       "0           0.383905  \n",
       "1           0.383905  \n",
       "2           0.383905  \n",
       "3           0.383905  \n",
       "4           0.383905  \n",
       "\n",
       "[5 rows x 27 columns]"
      ]
     },
     "execution_count": 72,
     "metadata": {},
     "output_type": "execute_result"
    }
   ],
   "source": [
    "encoded_df.head()"
   ]
  },
  {
   "cell_type": "code",
   "execution_count": 73,
   "id": "70a4eb94",
   "metadata": {},
   "outputs": [
    {
     "name": "stdout",
     "output_type": "stream",
     "text": [
      "        1 file(s) copied.\n"
     ]
    }
   ],
   "source": [
    "copy HR-Analytics.ipynb \"C:\\Users\\Nathaniel\\PycharmProjects\\HR_Recruitment_Analysis\\\""
   ]
  },
  {
   "cell_type": "code",
   "execution_count": 139,
   "id": "b8ef42e2",
   "metadata": {},
   "outputs": [
    {
     "name": "stdout",
     "output_type": "stream",
     "text": [
      "        1 file(s) copied.\n"
     ]
    }
   ],
   "source": [
    "copy support.py \"C:\\Users\\Nathaniel\\PycharmProjects\\HR_Recruitment_Analysis\\\""
   ]
  },
  {
   "cell_type": "code",
   "execution_count": null,
   "id": "26b2f748",
   "metadata": {},
   "outputs": [],
   "source": []
  }
 ],
 "metadata": {
  "kernelspec": {
   "display_name": "Python 3 (ipykernel)",
   "language": "python",
   "name": "python3"
  },
  "language_info": {
   "codemirror_mode": {
    "name": "ipython",
    "version": 3
   },
   "file_extension": ".py",
   "mimetype": "text/x-python",
   "name": "python",
   "nbconvert_exporter": "python",
   "pygments_lexer": "ipython3",
   "version": "3.9.13"
  }
 },
 "nbformat": 4,
 "nbformat_minor": 5
}
