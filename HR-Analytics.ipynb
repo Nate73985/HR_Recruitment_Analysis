{
 "cells": [
  {
   "cell_type": "code",
   "execution_count": 1,
   "id": "11874a57",
   "metadata": {},
   "outputs": [],
   "source": [
    "import pandas as pd\n",
    "import numpy as np\n",
    "import seaborn as sns\n",
    "import matplotlib.pyplot as plt\n",
    "import io\n",
    "import warnings\n",
    "warnings.filterwarnings('ignore')"
   ]
  },
  {
   "cell_type": "code",
   "execution_count": 2,
   "id": "9b888b9b",
   "metadata": {},
   "outputs": [
    {
     "name": "stdout",
     "output_type": "stream",
     "text": [
      "Requirement already satisfied: boto3 in c:\\users\\nathaniel\\anaconda3\\lib\\site-packages (1.24.28)\n",
      "Requirement already satisfied: botocore<1.28.0,>=1.27.28 in c:\\users\\nathaniel\\anaconda3\\lib\\site-packages (from boto3) (1.27.28)\n",
      "Requirement already satisfied: jmespath<2.0.0,>=0.7.1 in c:\\users\\nathaniel\\anaconda3\\lib\\site-packages (from boto3) (0.10.0)\n",
      "Requirement already satisfied: s3transfer<0.7.0,>=0.6.0 in c:\\users\\nathaniel\\anaconda3\\lib\\site-packages (from boto3) (0.6.0)\n",
      "Requirement already satisfied: urllib3<1.27,>=1.25.4 in c:\\users\\nathaniel\\anaconda3\\lib\\site-packages (from botocore<1.28.0,>=1.27.28->boto3) (1.26.11)\n",
      "Requirement already satisfied: python-dateutil<3.0.0,>=2.1 in c:\\users\\nathaniel\\anaconda3\\lib\\site-packages (from botocore<1.28.0,>=1.27.28->boto3) (2.8.2)\n",
      "Requirement already satisfied: six>=1.5 in c:\\users\\nathaniel\\anaconda3\\lib\\site-packages (from python-dateutil<3.0.0,>=2.1->botocore<1.28.0,>=1.27.28->boto3) (1.16.0)\n"
     ]
    }
   ],
   "source": [
    "!pip install boto3"
   ]
  },
  {
   "cell_type": "code",
   "execution_count": 3,
   "id": "ae5af2b3",
   "metadata": {},
   "outputs": [],
   "source": [
    "import support as support"
   ]
  },
  {
   "cell_type": "code",
   "execution_count": 2,
   "id": "314bc94d",
   "metadata": {},
   "outputs": [],
   "source": [
    "import HR_analytics_project.support as nate"
   ]
  },
  {
   "cell_type": "code",
   "execution_count": 4,
   "id": "a0c2b6cc",
   "metadata": {},
   "outputs": [
    {
     "ename": "NameError",
     "evalue": "name 'AWS_ACCESS_KEY_ID' is not defined",
     "output_type": "error",
     "traceback": [
      "\u001b[1;31m---------------------------------------------------------------------------\u001b[0m",
      "\u001b[1;31mNameError\u001b[0m                                 Traceback (most recent call last)",
      "\u001b[1;32m~\\AppData\\Local\\Temp\\ipykernel_20912\\67349758.py\u001b[0m in \u001b[0;36m<module>\u001b[1;34m\u001b[0m\n\u001b[1;32m----> 1\u001b[1;33m \u001b[0mdf_train_s3\u001b[0m \u001b[1;33m=\u001b[0m \u001b[0msupport\u001b[0m\u001b[1;33m.\u001b[0m\u001b[0mread_from_s3\u001b[0m\u001b[1;33m(\u001b[0m\u001b[1;34m\"hr_train_data\"\u001b[0m\u001b[1;33m,\u001b[0m\u001b[1;34m\"hranalyticsdata/new\"\u001b[0m\u001b[1;33m)\u001b[0m\u001b[1;33m\u001b[0m\u001b[1;33m\u001b[0m\u001b[0m\n\u001b[0m",
      "\u001b[1;32m~\\Downloads\\HR_analytics_project\\support.py\u001b[0m in \u001b[0;36mread_from_s3\u001b[1;34m(filename, key, ext)\u001b[0m\n\u001b[0;32m     65\u001b[0m     s3_client = boto3.client(\n\u001b[0;32m     66\u001b[0m                             \u001b[1;34m\"s3\"\u001b[0m\u001b[1;33m,\u001b[0m\u001b[1;33m\u001b[0m\u001b[1;33m\u001b[0m\u001b[0m\n\u001b[1;32m---> 67\u001b[1;33m                             \u001b[0maws_access_key_id\u001b[0m\u001b[1;33m=\u001b[0m\u001b[0mAWS_ACCESS_KEY_ID\u001b[0m\u001b[1;33m,\u001b[0m\u001b[1;33m\u001b[0m\u001b[1;33m\u001b[0m\u001b[0m\n\u001b[0m\u001b[0;32m     68\u001b[0m                             \u001b[0maws_secret_access_key\u001b[0m\u001b[1;33m=\u001b[0m\u001b[0mAWS_SECRET_ACCESS_KEY\u001b[0m\u001b[1;33m,\u001b[0m\u001b[1;33m\u001b[0m\u001b[1;33m\u001b[0m\u001b[0m\n\u001b[0;32m     69\u001b[0m                             )\n",
      "\u001b[1;31mNameError\u001b[0m: name 'AWS_ACCESS_KEY_ID' is not defined"
     ]
    }
   ],
   "source": [
    "df_train_s3 = support.read_from_s3(\"hr_train_data\",\"hranalyticsdata/new\")"
   ]
  },
  {
   "cell_type": "code",
   "execution_count": 10,
   "id": "943545d6",
   "metadata": {
    "scrolled": true
   },
   "outputs": [
    {
     "data": {
      "text/html": [
       "<div>\n",
       "<style scoped>\n",
       "    .dataframe tbody tr th:only-of-type {\n",
       "        vertical-align: middle;\n",
       "    }\n",
       "\n",
       "    .dataframe tbody tr th {\n",
       "        vertical-align: top;\n",
       "    }\n",
       "\n",
       "    .dataframe thead th {\n",
       "        text-align: right;\n",
       "    }\n",
       "</style>\n",
       "<table border=\"1\" class=\"dataframe\">\n",
       "  <thead>\n",
       "    <tr style=\"text-align: right;\">\n",
       "      <th></th>\n",
       "      <th>enrollee_id</th>\n",
       "      <th>city</th>\n",
       "      <th>city_development_index</th>\n",
       "      <th>gender</th>\n",
       "      <th>relevent_experience</th>\n",
       "      <th>enrolled_university</th>\n",
       "      <th>education_level</th>\n",
       "      <th>major_discipline</th>\n",
       "      <th>experience</th>\n",
       "      <th>company_size</th>\n",
       "      <th>company_type</th>\n",
       "      <th>last_new_job</th>\n",
       "      <th>training_hours</th>\n",
       "      <th>target</th>\n",
       "    </tr>\n",
       "  </thead>\n",
       "  <tbody>\n",
       "    <tr>\n",
       "      <th>0</th>\n",
       "      <td>8949</td>\n",
       "      <td>city_103</td>\n",
       "      <td>0.920</td>\n",
       "      <td>Male</td>\n",
       "      <td>Has relevent experience</td>\n",
       "      <td>no_enrollment</td>\n",
       "      <td>Graduate</td>\n",
       "      <td>STEM</td>\n",
       "      <td>&gt;20</td>\n",
       "      <td>NaN</td>\n",
       "      <td>NaN</td>\n",
       "      <td>1</td>\n",
       "      <td>36</td>\n",
       "      <td>1.0</td>\n",
       "    </tr>\n",
       "    <tr>\n",
       "      <th>1</th>\n",
       "      <td>29725</td>\n",
       "      <td>city_40</td>\n",
       "      <td>0.776</td>\n",
       "      <td>Male</td>\n",
       "      <td>No relevent experience</td>\n",
       "      <td>no_enrollment</td>\n",
       "      <td>Graduate</td>\n",
       "      <td>STEM</td>\n",
       "      <td>15</td>\n",
       "      <td>50-99</td>\n",
       "      <td>Pvt Ltd</td>\n",
       "      <td>&gt;4</td>\n",
       "      <td>47</td>\n",
       "      <td>0.0</td>\n",
       "    </tr>\n",
       "  </tbody>\n",
       "</table>\n",
       "</div>"
      ],
      "text/plain": [
       "   enrollee_id      city  city_development_index gender  \\\n",
       "0         8949  city_103                   0.920   Male   \n",
       "1        29725   city_40                   0.776   Male   \n",
       "\n",
       "       relevent_experience enrolled_university education_level  \\\n",
       "0  Has relevent experience       no_enrollment        Graduate   \n",
       "1   No relevent experience       no_enrollment        Graduate   \n",
       "\n",
       "  major_discipline experience company_size company_type last_new_job  \\\n",
       "0             STEM        >20          NaN          NaN            1   \n",
       "1             STEM         15        50-99      Pvt Ltd           >4   \n",
       "\n",
       "   training_hours  target  \n",
       "0              36     1.0  \n",
       "1              47     0.0  "
      ]
     },
     "execution_count": 10,
     "metadata": {},
     "output_type": "execute_result"
    }
   ],
   "source": [
    "df_train = df_train_s3.copy()\n",
    "df_train.head(2)"
   ]
  },
  {
   "cell_type": "code",
   "execution_count": 11,
   "id": "07a9906c",
   "metadata": {},
   "outputs": [
    {
     "name": "stdout",
     "output_type": "stream",
     "text": [
      "Train data: (19158, 14)\n"
     ]
    }
   ],
   "source": [
    "print ('Train data:',df_train.shape)"
   ]
  },
  {
   "cell_type": "code",
   "execution_count": 12,
   "id": "754ce3cd",
   "metadata": {},
   "outputs": [
    {
     "name": "stdout",
     "output_type": "stream",
     "text": [
      "<class 'pandas.core.frame.DataFrame'>\n",
      "RangeIndex: 19158 entries, 0 to 19157\n",
      "Data columns (total 14 columns):\n",
      " #   Column                  Non-Null Count  Dtype  \n",
      "---  ------                  --------------  -----  \n",
      " 0   enrollee_id             19158 non-null  int64  \n",
      " 1   city                    19158 non-null  object \n",
      " 2   city_development_index  19158 non-null  float64\n",
      " 3   gender                  14650 non-null  object \n",
      " 4   relevent_experience     19158 non-null  object \n",
      " 5   enrolled_university     18772 non-null  object \n",
      " 6   education_level         18698 non-null  object \n",
      " 7   major_discipline        16345 non-null  object \n",
      " 8   experience              19093 non-null  object \n",
      " 9   company_size            13220 non-null  object \n",
      " 10  company_type            13018 non-null  object \n",
      " 11  last_new_job            18735 non-null  object \n",
      " 12  training_hours          19158 non-null  int64  \n",
      " 13  target                  19158 non-null  float64\n",
      "dtypes: float64(2), int64(2), object(10)\n",
      "memory usage: 2.0+ MB\n"
     ]
    }
   ],
   "source": [
    "df_train.info()"
   ]
  },
  {
   "cell_type": "code",
   "execution_count": 14,
   "id": "539f2384",
   "metadata": {},
   "outputs": [
    {
     "data": {
      "text/plain": [
       "array(['>20', '15', '5', '<1', '11', '13', '7', '17', '2', '16', '1', '4',\n",
       "       '10', '14', '18', '19', '12', '3', '6', '9', '8', '20', nan],\n",
       "      dtype=object)"
      ]
     },
     "execution_count": 14,
     "metadata": {},
     "output_type": "execute_result"
    }
   ],
   "source": [
    " df_train['experience'].unique()"
   ]
  },
  {
   "cell_type": "code",
   "execution_count": 15,
   "id": "cc4cd412",
   "metadata": {},
   "outputs": [
    {
     "data": {
      "text/plain": [
       "array([nan, '50-99', '<10', '10000+', '5000-9999', '1000-4999', '10/49',\n",
       "       '100-500', '500-999'], dtype=object)"
      ]
     },
     "execution_count": 15,
     "metadata": {},
     "output_type": "execute_result"
    }
   ],
   "source": [
    "df_train['company_size'].unique()"
   ]
  },
  {
   "cell_type": "code",
   "execution_count": 16,
   "id": "eda6179f",
   "metadata": {},
   "outputs": [
    {
     "data": {
      "text/html": [
       "<div>\n",
       "<style scoped>\n",
       "    .dataframe tbody tr th:only-of-type {\n",
       "        vertical-align: middle;\n",
       "    }\n",
       "\n",
       "    .dataframe tbody tr th {\n",
       "        vertical-align: top;\n",
       "    }\n",
       "\n",
       "    .dataframe thead th {\n",
       "        text-align: right;\n",
       "    }\n",
       "</style>\n",
       "<table border=\"1\" class=\"dataframe\">\n",
       "  <thead>\n",
       "    <tr style=\"text-align: right;\">\n",
       "      <th></th>\n",
       "      <th></th>\n",
       "      <th>enrollee_id</th>\n",
       "      <th>city</th>\n",
       "      <th>city_development_index</th>\n",
       "      <th>gender</th>\n",
       "      <th>relevent_experience</th>\n",
       "      <th>major_discipline</th>\n",
       "      <th>experience</th>\n",
       "      <th>company_size</th>\n",
       "      <th>company_type</th>\n",
       "      <th>last_new_job</th>\n",
       "      <th>training_hours</th>\n",
       "      <th>target</th>\n",
       "    </tr>\n",
       "    <tr>\n",
       "      <th>education_level</th>\n",
       "      <th>enrolled_university</th>\n",
       "      <th></th>\n",
       "      <th></th>\n",
       "      <th></th>\n",
       "      <th></th>\n",
       "      <th></th>\n",
       "      <th></th>\n",
       "      <th></th>\n",
       "      <th></th>\n",
       "      <th></th>\n",
       "      <th></th>\n",
       "      <th></th>\n",
       "      <th></th>\n",
       "    </tr>\n",
       "  </thead>\n",
       "  <tbody>\n",
       "    <tr>\n",
       "      <th rowspan=\"3\" valign=\"top\">Graduate</th>\n",
       "      <th>Full time course</th>\n",
       "      <td>2209</td>\n",
       "      <td>2209</td>\n",
       "      <td>2209</td>\n",
       "      <td>1501</td>\n",
       "      <td>2209</td>\n",
       "      <td>2200</td>\n",
       "      <td>2195</td>\n",
       "      <td>1040</td>\n",
       "      <td>1073</td>\n",
       "      <td>2107</td>\n",
       "      <td>2209</td>\n",
       "      <td>2209</td>\n",
       "    </tr>\n",
       "    <tr>\n",
       "      <th>Part time course</th>\n",
       "      <td>784</td>\n",
       "      <td>784</td>\n",
       "      <td>784</td>\n",
       "      <td>593</td>\n",
       "      <td>784</td>\n",
       "      <td>784</td>\n",
       "      <td>784</td>\n",
       "      <td>587</td>\n",
       "      <td>571</td>\n",
       "      <td>766</td>\n",
       "      <td>784</td>\n",
       "      <td>784</td>\n",
       "    </tr>\n",
       "    <tr>\n",
       "      <th>no_enrollment</th>\n",
       "      <td>8434</td>\n",
       "      <td>8434</td>\n",
       "      <td>8434</td>\n",
       "      <td>6835</td>\n",
       "      <td>8434</td>\n",
       "      <td>8422</td>\n",
       "      <td>8418</td>\n",
       "      <td>6705</td>\n",
       "      <td>6511</td>\n",
       "      <td>8335</td>\n",
       "      <td>8434</td>\n",
       "      <td>8434</td>\n",
       "    </tr>\n",
       "    <tr>\n",
       "      <th rowspan=\"3\" valign=\"top\">High School</th>\n",
       "      <th>Full time course</th>\n",
       "      <td>864</td>\n",
       "      <td>864</td>\n",
       "      <td>864</td>\n",
       "      <td>644</td>\n",
       "      <td>864</td>\n",
       "      <td>0</td>\n",
       "      <td>864</td>\n",
       "      <td>252</td>\n",
       "      <td>281</td>\n",
       "      <td>833</td>\n",
       "      <td>864</td>\n",
       "      <td>864</td>\n",
       "    </tr>\n",
       "    <tr>\n",
       "      <th>Part time course</th>\n",
       "      <td>166</td>\n",
       "      <td>166</td>\n",
       "      <td>166</td>\n",
       "      <td>123</td>\n",
       "      <td>166</td>\n",
       "      <td>0</td>\n",
       "      <td>165</td>\n",
       "      <td>112</td>\n",
       "      <td>106</td>\n",
       "      <td>160</td>\n",
       "      <td>166</td>\n",
       "      <td>166</td>\n",
       "    </tr>\n",
       "    <tr>\n",
       "      <th>no_enrollment</th>\n",
       "      <td>940</td>\n",
       "      <td>940</td>\n",
       "      <td>940</td>\n",
       "      <td>701</td>\n",
       "      <td>940</td>\n",
       "      <td>0</td>\n",
       "      <td>938</td>\n",
       "      <td>483</td>\n",
       "      <td>502</td>\n",
       "      <td>916</td>\n",
       "      <td>940</td>\n",
       "      <td>940</td>\n",
       "    </tr>\n",
       "    <tr>\n",
       "      <th rowspan=\"3\" valign=\"top\">Masters</th>\n",
       "      <th>Full time course</th>\n",
       "      <td>557</td>\n",
       "      <td>557</td>\n",
       "      <td>557</td>\n",
       "      <td>366</td>\n",
       "      <td>557</td>\n",
       "      <td>556</td>\n",
       "      <td>556</td>\n",
       "      <td>328</td>\n",
       "      <td>345</td>\n",
       "      <td>534</td>\n",
       "      <td>557</td>\n",
       "      <td>557</td>\n",
       "    </tr>\n",
       "    <tr>\n",
       "      <th>Part time course</th>\n",
       "      <td>204</td>\n",
       "      <td>204</td>\n",
       "      <td>204</td>\n",
       "      <td>135</td>\n",
       "      <td>204</td>\n",
       "      <td>203</td>\n",
       "      <td>204</td>\n",
       "      <td>155</td>\n",
       "      <td>145</td>\n",
       "      <td>202</td>\n",
       "      <td>204</td>\n",
       "      <td>204</td>\n",
       "    </tr>\n",
       "    <tr>\n",
       "      <th>no_enrollment</th>\n",
       "      <td>3547</td>\n",
       "      <td>3547</td>\n",
       "      <td>3547</td>\n",
       "      <td>2793</td>\n",
       "      <td>3547</td>\n",
       "      <td>3543</td>\n",
       "      <td>3533</td>\n",
       "      <td>2878</td>\n",
       "      <td>2772</td>\n",
       "      <td>3499</td>\n",
       "      <td>3547</td>\n",
       "      <td>3547</td>\n",
       "    </tr>\n",
       "    <tr>\n",
       "      <th rowspan=\"3\" valign=\"top\">Phd</th>\n",
       "      <th>Full time course</th>\n",
       "      <td>25</td>\n",
       "      <td>25</td>\n",
       "      <td>25</td>\n",
       "      <td>15</td>\n",
       "      <td>25</td>\n",
       "      <td>25</td>\n",
       "      <td>24</td>\n",
       "      <td>16</td>\n",
       "      <td>19</td>\n",
       "      <td>24</td>\n",
       "      <td>25</td>\n",
       "      <td>25</td>\n",
       "    </tr>\n",
       "    <tr>\n",
       "      <th>Part time course</th>\n",
       "      <td>12</td>\n",
       "      <td>12</td>\n",
       "      <td>12</td>\n",
       "      <td>9</td>\n",
       "      <td>12</td>\n",
       "      <td>12</td>\n",
       "      <td>12</td>\n",
       "      <td>10</td>\n",
       "      <td>9</td>\n",
       "      <td>11</td>\n",
       "      <td>12</td>\n",
       "      <td>12</td>\n",
       "    </tr>\n",
       "    <tr>\n",
       "      <th>no_enrollment</th>\n",
       "      <td>371</td>\n",
       "      <td>371</td>\n",
       "      <td>371</td>\n",
       "      <td>303</td>\n",
       "      <td>371</td>\n",
       "      <td>371</td>\n",
       "      <td>369</td>\n",
       "      <td>297</td>\n",
       "      <td>305</td>\n",
       "      <td>366</td>\n",
       "      <td>371</td>\n",
       "      <td>371</td>\n",
       "    </tr>\n",
       "    <tr>\n",
       "      <th rowspan=\"3\" valign=\"top\">Primary School</th>\n",
       "      <th>Full time course</th>\n",
       "      <td>33</td>\n",
       "      <td>33</td>\n",
       "      <td>33</td>\n",
       "      <td>19</td>\n",
       "      <td>33</td>\n",
       "      <td>0</td>\n",
       "      <td>32</td>\n",
       "      <td>9</td>\n",
       "      <td>12</td>\n",
       "      <td>30</td>\n",
       "      <td>33</td>\n",
       "      <td>33</td>\n",
       "    </tr>\n",
       "    <tr>\n",
       "      <th>Part time course</th>\n",
       "      <td>11</td>\n",
       "      <td>11</td>\n",
       "      <td>11</td>\n",
       "      <td>6</td>\n",
       "      <td>11</td>\n",
       "      <td>0</td>\n",
       "      <td>11</td>\n",
       "      <td>5</td>\n",
       "      <td>5</td>\n",
       "      <td>10</td>\n",
       "      <td>11</td>\n",
       "      <td>11</td>\n",
       "    </tr>\n",
       "    <tr>\n",
       "      <th>no_enrollment</th>\n",
       "      <td>255</td>\n",
       "      <td>255</td>\n",
       "      <td>255</td>\n",
       "      <td>182</td>\n",
       "      <td>255</td>\n",
       "      <td>0</td>\n",
       "      <td>255</td>\n",
       "      <td>50</td>\n",
       "      <td>72</td>\n",
       "      <td>251</td>\n",
       "      <td>255</td>\n",
       "      <td>255</td>\n",
       "    </tr>\n",
       "  </tbody>\n",
       "</table>\n",
       "</div>"
      ],
      "text/plain": [
       "                                     enrollee_id  city  \\\n",
       "education_level enrolled_university                      \n",
       "Graduate        Full time course            2209  2209   \n",
       "                Part time course             784   784   \n",
       "                no_enrollment               8434  8434   \n",
       "High School     Full time course             864   864   \n",
       "                Part time course             166   166   \n",
       "                no_enrollment                940   940   \n",
       "Masters         Full time course             557   557   \n",
       "                Part time course             204   204   \n",
       "                no_enrollment               3547  3547   \n",
       "Phd             Full time course              25    25   \n",
       "                Part time course              12    12   \n",
       "                no_enrollment                371   371   \n",
       "Primary School  Full time course              33    33   \n",
       "                Part time course              11    11   \n",
       "                no_enrollment                255   255   \n",
       "\n",
       "                                     city_development_index  gender  \\\n",
       "education_level enrolled_university                                   \n",
       "Graduate        Full time course                       2209    1501   \n",
       "                Part time course                        784     593   \n",
       "                no_enrollment                          8434    6835   \n",
       "High School     Full time course                        864     644   \n",
       "                Part time course                        166     123   \n",
       "                no_enrollment                           940     701   \n",
       "Masters         Full time course                        557     366   \n",
       "                Part time course                        204     135   \n",
       "                no_enrollment                          3547    2793   \n",
       "Phd             Full time course                         25      15   \n",
       "                Part time course                         12       9   \n",
       "                no_enrollment                           371     303   \n",
       "Primary School  Full time course                         33      19   \n",
       "                Part time course                         11       6   \n",
       "                no_enrollment                           255     182   \n",
       "\n",
       "                                     relevent_experience  major_discipline  \\\n",
       "education_level enrolled_university                                          \n",
       "Graduate        Full time course                    2209              2200   \n",
       "                Part time course                     784               784   \n",
       "                no_enrollment                       8434              8422   \n",
       "High School     Full time course                     864                 0   \n",
       "                Part time course                     166                 0   \n",
       "                no_enrollment                        940                 0   \n",
       "Masters         Full time course                     557               556   \n",
       "                Part time course                     204               203   \n",
       "                no_enrollment                       3547              3543   \n",
       "Phd             Full time course                      25                25   \n",
       "                Part time course                      12                12   \n",
       "                no_enrollment                        371               371   \n",
       "Primary School  Full time course                      33                 0   \n",
       "                Part time course                      11                 0   \n",
       "                no_enrollment                        255                 0   \n",
       "\n",
       "                                     experience  company_size  company_type  \\\n",
       "education_level enrolled_university                                           \n",
       "Graduate        Full time course           2195          1040          1073   \n",
       "                Part time course            784           587           571   \n",
       "                no_enrollment              8418          6705          6511   \n",
       "High School     Full time course            864           252           281   \n",
       "                Part time course            165           112           106   \n",
       "                no_enrollment               938           483           502   \n",
       "Masters         Full time course            556           328           345   \n",
       "                Part time course            204           155           145   \n",
       "                no_enrollment              3533          2878          2772   \n",
       "Phd             Full time course             24            16            19   \n",
       "                Part time course             12            10             9   \n",
       "                no_enrollment               369           297           305   \n",
       "Primary School  Full time course             32             9            12   \n",
       "                Part time course             11             5             5   \n",
       "                no_enrollment               255            50            72   \n",
       "\n",
       "                                     last_new_job  training_hours  target  \n",
       "education_level enrolled_university                                        \n",
       "Graduate        Full time course             2107            2209    2209  \n",
       "                Part time course              766             784     784  \n",
       "                no_enrollment                8335            8434    8434  \n",
       "High School     Full time course              833             864     864  \n",
       "                Part time course              160             166     166  \n",
       "                no_enrollment                 916             940     940  \n",
       "Masters         Full time course              534             557     557  \n",
       "                Part time course              202             204     204  \n",
       "                no_enrollment                3499            3547    3547  \n",
       "Phd             Full time course               24              25      25  \n",
       "                Part time course               11              12      12  \n",
       "                no_enrollment                 366             371     371  \n",
       "Primary School  Full time course               30              33      33  \n",
       "                Part time course               10              11      11  \n",
       "                no_enrollment                 251             255     255  "
      ]
     },
     "execution_count": 16,
     "metadata": {},
     "output_type": "execute_result"
    }
   ],
   "source": [
    "df_train.groupby([ 'education_level', 'enrolled_university']).count()"
   ]
  },
  {
   "cell_type": "code",
   "execution_count": 17,
   "id": "1063c2d6",
   "metadata": {},
   "outputs": [
    {
     "data": {
      "text/plain": [
       "array([1., 0.])"
      ]
     },
     "execution_count": 17,
     "metadata": {},
     "output_type": "execute_result"
    }
   ],
   "source": [
    "df_train['target'].unique()"
   ]
  },
  {
   "cell_type": "markdown",
   "id": "fc24e932",
   "metadata": {},
   "source": [
    "- Transformation:\n",
    "    - Gender, major_discipline column: Create another category called \"others\"\n",
    "    - enrolled_university, education_level, last_new_jobs: fill it with the mode\n",
    "    - figure how to handle company_size and company_type = company_type(Other), experience (Mode), company_size (Other)\n",
    "- Analysis:\n",
    "    - A lot of analysis: create a presentation powerpoint, pdf\n",
    "        - correlations\n",
    "        - bar plot\n",
    "        - pie charts\n",
    "- ML Transformation\n",
    "    - Label Encoder\n",
    "    - One Hot Encoding\n",
    "    - Embedding\n",
    "    \n",
    "- Model \n",
    "        "
   ]
  },
  {
   "cell_type": "code",
   "execution_count": 18,
   "id": "1616c024",
   "metadata": {},
   "outputs": [
    {
     "data": {
      "text/plain": [
       "array(['Male', nan, 'Female', 'Other'], dtype=object)"
      ]
     },
     "execution_count": 18,
     "metadata": {},
     "output_type": "execute_result"
    }
   ],
   "source": [
    "df_train['gender'].unique()"
   ]
  },
  {
   "cell_type": "code",
   "execution_count": 19,
   "id": "fc49ed60",
   "metadata": {},
   "outputs": [
    {
     "data": {
      "text/plain": [
       "array(['1', '>4', '4', '3', 'never', '2', nan], dtype=object)"
      ]
     },
     "execution_count": 19,
     "metadata": {},
     "output_type": "execute_result"
    }
   ],
   "source": [
    "df_train['last_new_job'].unique()"
   ]
  },
  {
   "cell_type": "code",
   "execution_count": null,
   "id": "f14da712",
   "metadata": {},
   "outputs": [],
   "source": []
  },
  {
   "cell_type": "code",
   "execution_count": 42,
   "id": "735b063a",
   "metadata": {},
   "outputs": [
    {
     "data": {
      "text/plain": [
       "enrollee_id                  0\n",
       "city                         0\n",
       "city_development_index       0\n",
       "gender                    4508\n",
       "relevent_experience          0\n",
       "enrolled_university        386\n",
       "education_level            460\n",
       "major_discipline          2813\n",
       "experience                  65\n",
       "company_size              5938\n",
       "company_type              6140\n",
       "last_new_job               423\n",
       "training_hours               0\n",
       "target                       0\n",
       "dtype: int64"
      ]
     },
     "execution_count": 42,
     "metadata": {},
     "output_type": "execute_result"
    }
   ],
   "source": [
    "df_train.isnull().sum()"
   ]
  },
  {
   "cell_type": "code",
   "execution_count": 34,
   "id": "9ca3bb7a",
   "metadata": {},
   "outputs": [],
   "source": [
    "class Transformation:\n",
    "    def __init__(self, df):\n",
    "        self.df = df\n",
    "        \n",
    "    def replace_enrolled_university(self):\n",
    "        uni_miss = self.df.loc[self.df['enrolled_university'].isna()]\n",
    "        uni_miss['enrolled_university'] = self.df.loc[self.df['enrolled_university'].notna()]['enrolled_university'].mode()[0]\n",
    "        self.df = pd.concat([self.df.loc[self.df['enrolled_university'].notna()], uni_miss], ignore_index=True)\n",
    "    \n",
    "    def replace_gender(self):\n",
    "        gender_miss = self.df.loc[self.df['gender'].isna()]\n",
    "        gender_miss['gender'] = 'Other'\n",
    "        self.df = pd.concat([self.df.loc[self.df['gender'].notna()], gender_miss], ignore_index=True) \n",
    "    \n",
    "    def replace_major_discipline(self):\n",
    "        maj_disc_miss = self.df.loc[self.df['major_discipline'].isna()]\n",
    "        maj_disc_miss['major_discipline'] = 'Other'\n",
    "        self.df = pd.concat([self.df.loc[self.df['major_discipline'].notna()], maj_disc_miss], ignore_index=True)       \n",
    "        \n",
    "    def replace_education_level(self):\n",
    "        edu_miss = self.df.loc[self.df['education_level'].isna()]\n",
    "        edu_miss['education_level'] = self.df.loc[self.df['education_level'].notna()]['education_level'].mode()[0]\n",
    "        self.df = pd.concat([self.df.loc[self.df['education_level'].notna()],edu_miss], ignore_index=True)\n",
    "    \n",
    "    def replace_last_new_job(self):\n",
    "        job_miss  = self.df.loc[self.df['last_new_job'].isna()]\n",
    "        job_miss['last_new_job'] = self.df.loc[self.df['last_new_job'].notna()]['last_new_job'].mode()[0]\n",
    "        self.df = pd.concat([self.df.loc[self.df['last_new_job'].notna()],job_miss], ignore_index=True)\n",
    "    \n",
    "    def replace_company_type(self):\n",
    "        type_miss = self.df.loc[self.df['company_type'].isna()]\n",
    "        type_miss['company_type'] = 'Other'\n",
    "        self.df = pd.concat([self.df.loc[self.df['company_type'].notna()], type_miss], ignore_index=True)\n",
    "    \n",
    "    def replace_company_size(self):\n",
    "        size_miss = self.df.loc[self.df['company_size'].isna()]\n",
    "        size_miss['company_size'] = 'Other'\n",
    "        self.df = pd.concat([self.df.loc[self.df['company_size'].notna()], size_miss], ignore_index=True)\n",
    "    \n",
    "    def replace_experience(self):\n",
    "        exp_miss = self.df.loc[self.df['experience'].isna()]\n",
    "        exp_miss['experience'] = self.df.loc[self.df['experience'].notna()]['experience'].mode()[0]\n",
    "        self.df = pd.concat([self.df.loc[self.df['experience'].notna()], exp_miss], ignore_index=True) \n",
    "        \n",
    "    \n",
    "    def run_process(self):\n",
    "        self.replace_enrolled_university()\n",
    "        self.replace_gender()\n",
    "        self.replace_major_discipline()\n",
    "        self.replace_education_level()\n",
    "        self.replace_last_new_job()\n",
    "        self.replace_company_type()\n",
    "        self.replace_company_size()\n",
    "        self.replace_experience()\n",
    "        \n",
    "        return self.df\n",
    "    "
   ]
  },
  {
   "cell_type": "code",
   "execution_count": 40,
   "id": "0dedd8cf",
   "metadata": {},
   "outputs": [],
   "source": [
    "import support"
   ]
  },
  {
   "cell_type": "code",
   "execution_count": 2,
   "id": "2d9503b0",
   "metadata": {},
   "outputs": [
    {
     "ename": "NameError",
     "evalue": "name 'support' is not defined",
     "output_type": "error",
     "traceback": [
      "\u001b[1;31m---------------------------------------------------------------------------\u001b[0m",
      "\u001b[1;31mNameError\u001b[0m                                 Traceback (most recent call last)",
      "Cell \u001b[1;32mIn[2], line 1\u001b[0m\n\u001b[1;32m----> 1\u001b[0m tran \u001b[38;5;241m=\u001b[39m \u001b[43msupport\u001b[49m\u001b[38;5;241m.\u001b[39mTransformation(df_train)\n",
      "\u001b[1;31mNameError\u001b[0m: name 'support' is not defined"
     ]
    }
   ],
   "source": [
    "tran = support.Transformation(df_train)"
   ]
  },
  {
   "cell_type": "code",
   "execution_count": 36,
   "id": "105f9682",
   "metadata": {},
   "outputs": [],
   "source": [
    "cf = tran.run_process()"
   ]
  },
  {
   "cell_type": "code",
   "execution_count": 37,
   "id": "6317977a",
   "metadata": {},
   "outputs": [
    {
     "data": {
      "text/plain": [
       "enrollee_id               0\n",
       "city                      0\n",
       "city_development_index    0\n",
       "gender                    0\n",
       "relevent_experience       0\n",
       "enrolled_university       0\n",
       "education_level           0\n",
       "major_discipline          0\n",
       "experience                0\n",
       "company_size              0\n",
       "company_type              0\n",
       "last_new_job              0\n",
       "training_hours            0\n",
       "target                    0\n",
       "dtype: int64"
      ]
     },
     "execution_count": 37,
     "metadata": {},
     "output_type": "execute_result"
    }
   ],
   "source": [
    "cf.isnull().sum()"
   ]
  },
  {
   "cell_type": "code",
   "execution_count": 41,
   "id": "3016e698",
   "metadata": {},
   "outputs": [],
   "source": [
    "cf = cf.drop(\"enrollee_id\", axis=1)"
   ]
  },
  {
   "cell_type": "code",
   "execution_count": null,
   "id": "61a58b7f",
   "metadata": {},
   "outputs": [],
   "source": []
  },
  {
   "cell_type": "code",
   "execution_count": null,
   "id": "f1c6b61e",
   "metadata": {},
   "outputs": [],
   "source": []
  },
  {
   "cell_type": "code",
   "execution_count": 38,
   "id": "129e7ad8",
   "metadata": {},
   "outputs": [
    {
     "name": "stdout",
     "output_type": "stream",
     "text": [
      "Collecting pivottablejsNote: you may need to restart the kernel to use updated packages.\n",
      "\n",
      "  Using cached pivottablejs-0.9.0-py2.py3-none-any.whl (4.7 kB)\n",
      "Installing collected packages: pivottablejs\n",
      "Successfully installed pivottablejs-0.9.0\n"
     ]
    }
   ],
   "source": [
    "pip install pivottablejs"
   ]
  },
  {
   "cell_type": "code",
   "execution_count": 39,
   "id": "eb5c863a",
   "metadata": {
    "scrolled": true
   },
   "outputs": [
    {
     "data": {
      "text/html": [
       "\n",
       "        <iframe\n",
       "            width=\"100%\"\n",
       "            height=\"500\"\n",
       "            src=\"pivottablejs.html\"\n",
       "            frameborder=\"0\"\n",
       "            allowfullscreen\n",
       "            \n",
       "        ></iframe>\n",
       "        "
      ],
      "text/plain": [
       "<IPython.lib.display.IFrame at 0x1c8bbdc3eb0>"
      ]
     },
     "execution_count": 39,
     "metadata": {},
     "output_type": "execute_result"
    }
   ],
   "source": [
    "from pivottablejs import pivot_ui\n",
    "\n",
    "pivot_ui(cf)"
   ]
  },
  {
   "cell_type": "markdown",
   "id": "7a3270fd",
   "metadata": {},
   "source": [
    "<img src=\"image.jpg\"/>"
   ]
  },
  {
   "cell_type": "code",
   "execution_count": null,
   "id": "0d4b2d43",
   "metadata": {},
   "outputs": [],
   "source": [
    "#pip install git+https://github.com/shakedzy/dython.git"
   ]
  },
  {
   "cell_type": "code",
   "execution_count": null,
   "id": "77d0e5d3",
   "metadata": {},
   "outputs": [],
   "source": [
    "#from dython.nominal import associations"
   ]
  },
  {
   "cell_type": "code",
   "execution_count": 43,
   "id": "0486f6c5",
   "metadata": {},
   "outputs": [
    {
     "ename": "AttributeError",
     "evalue": "module 'support' has no attribute 'labeled_barplot'",
     "output_type": "error",
     "traceback": [
      "\u001b[1;31m---------------------------------------------------------------------------\u001b[0m",
      "\u001b[1;31mAttributeError\u001b[0m                            Traceback (most recent call last)",
      "Cell \u001b[1;32mIn[43], line 1\u001b[0m\n\u001b[1;32m----> 1\u001b[0m \u001b[43msupport\u001b[49m\u001b[38;5;241;43m.\u001b[39;49m\u001b[43mlabeled_barplot\u001b[49m(cf,\u001b[38;5;124m\"\u001b[39m\u001b[38;5;124mcompany_type\u001b[39m\u001b[38;5;124m\"\u001b[39m,perc\u001b[38;5;241m=\u001b[39m\u001b[38;5;28;01mTrue\u001b[39;00m)\n",
      "\u001b[1;31mAttributeError\u001b[0m: module 'support' has no attribute 'labeled_barplot'"
     ]
    }
   ],
   "source": [
    "support.labeled_barplot(cf,\"company_type\",perc=True)"
   ]
  },
  {
   "cell_type": "code",
   "execution_count": null,
   "id": "447c6c65",
   "metadata": {},
   "outputs": [],
   "source": []
  },
  {
   "cell_type": "code",
   "execution_count": null,
   "id": "0e8b3bd7",
   "metadata": {},
   "outputs": [],
   "source": [
    "plt.figure(figsize=(10,7))\n",
    "sns.heatmap(df_train.corr(), annot=True, cmap=\"YlGnBu\", linewidths=.6)"
   ]
  },
  {
   "cell_type": "code",
   "execution_count": null,
   "id": "3948bd95",
   "metadata": {},
   "outputs": [],
   "source": [
    "plt.figure(figsize=(10,7))\n",
    "sns.barplot (x='education_level',y='training_hours', data=df_train, label='blue')"
   ]
  },
  {
   "cell_type": "code",
   "execution_count": null,
   "id": "e7d2ad6d",
   "metadata": {},
   "outputs": [],
   "source": [
    "plt.figure(figsize=(10,7))\n",
    "sns.barplot (x='education_level',y='city_development_index', data=df_train, label='blue')"
   ]
  },
  {
   "cell_type": "code",
   "execution_count": 4,
   "id": "db00fd75",
   "metadata": {},
   "outputs": [
    {
     "name": "stdout",
     "output_type": "stream",
     "text": [
      " Volume in drive C has no label.\n",
      " Volume Serial Number is 280C-2769\n",
      "\n",
      " Directory of C:\\Users\\Nathaniel\\Downloads\n",
      "\n",
      "17/07/2023  16:30    <DIR>          .\n",
      "15/07/2023  23:48    <DIR>          ..\n",
      "13/07/2023  21:25    <DIR>          .ipynb_checkpoints\n",
      "13/07/2023  13:29    <DIR>          __pycache__\n",
      "15/06/2022  11:50            84,199 1437923016_411__winequality-red.csv\n",
      "23/03/2023  16:25         2,241,160 20220954970010.pdf\n",
      "04/04/2023  11:25               154 36471 (1).trymyui\n",
      "30/03/2023  21:21               154 36471.trymyui\n",
      "19/01/2023  09:39        12,225,905 5c7825d2-6814-40c7-aefe-3d0f3d6f22e7.csv\n",
      "28/03/2022  15:43             3,788 abtest.csv\n",
      "11/07/2023  19:58         1,375,337 Academic Transcript of OKAFOR Nathaniel Chukwudimegwu (E-Transcript).pdf\n",
      "07/03/2023  04:14           625,786 Acceptance Form.docx\n",
      "13/07/2023  21:25           996,875 Additional_CaseStudy_German_Credit.ipynb\n",
      "27/05/2023  06:52         1,531,464 Additional_CaseStudy_Loan_Delinquent.ipynb\n",
      "10/02/2022  13:31            12,903 Admission_Predict.csv\n",
      "14/01/2023  10:36       754,172,176 AlteryxNonAdminInstallx64_2022.3.1.395.exe\n",
      "14/01/2023  09:50       651,399,256 Anaconda3-2022.10-Windows-x86_64.exe\n",
      "10/07/2023  13:20       824,774,840 Anaconda3-2023.03-1-Windows-x86_64.exe\n",
      "30/04/2022  07:15         5,965,588 anime_data.csv\n",
      "27/05/2023  22:00        12,439,185 archive (1).zip\n",
      "26/06/2023  14:45           301,600 archive (2).zip\n",
      "30/01/2023  12:29            36,801 archive (3).zip\n",
      "19/01/2023  10:00            79,289 archive.zip\n",
      "11/03/2022  14:34             9,783 assignment.csv\n",
      "07/02/2022  02:39            24,729 Automobile.csv\n",
      "06/04/2022  02:53            31,858 boston.csv\n",
      "22/08/2022  14:04           113,954 carbon-emissions-borough.xlsx\n",
      "10/08/2022  06:44            18,088 car-mpg.csv\n",
      "13/07/2023  21:25         1,659,003 Case_Study_DiabetesRisk_Prediction.ipynb\n",
      "13/07/2023  21:25         3,791,276 Case_Study_WineQuality_Prediction.ipynb\n",
      "13/06/2023  22:19           884,736 chinook.db\n",
      "14/06/2023  23:02                 0 chinook.sqlite\n",
      "13/06/2023  22:05           305,596 chinook.zip\n",
      "04/07/2023  08:48           118,820 ConsentForm_-TTS-English-IN-VAC-Final__1_.pdf\n",
      "04/08/2022  12:00            27,886 country_stats.csv\n",
      "27/05/2023  22:01       105,844,595 crop1.csv\n",
      "02/05/2023  08:02            39,306 DAD INS.pdf\n",
      "15/01/2023  13:46        16,817,902 data - 2022-10-06T141717.410.xlsx\n",
      "26/07/2022  13:07           268,230 data_add_nik.csv\n",
      "10/09/2022  00:05             2,067 Data_Dictionary.txt\n",
      "29/07/2022  13:23             1,335 Data_Dictionary_(1)_(1)_(1).csv\n",
      "19/01/2023  09:46             6,925 data_sources_by_asset_type.csv\n",
      "04/06/2023  06:43        18,038,784 DB.Browser.for.SQLite-3.12.2-win64.msi\n",
      "27/05/2023  20:32       651,885,904 Docker Desktop Installer.exe\n",
      "12/03/2022  08:12               512 doses.csv\n",
      "21/06/2022  05:49         1,505,656 DSBA_Project_ET_EasyVisa_Fullcode (1).html\n",
      "20/06/2022  13:42         1,505,543 DSBA_Project_ET_EasyVisa_Fullcode.html\n",
      "03/04/2023  12:42           870,681 DSBA_Project_ET_EasyVisa_Fullcode.ipynb\n",
      "15/06/2022  00:15         1,880,839 EasyVisa.csv\n",
      "10/02/2022  14:27           121,579 EDA_Part1_Basic_Statistics_Exploration.ipynb\n",
      "23/06/2023  21:43         1,515,403 EDA+-+Univariate_and_Multivariate_Analysis.ipynb\n",
      "27/02/2022  13:31           107,568 EDA-+Practice+Exercise+Questions.ipynb\n",
      "16/02/2022  23:42           821,362 EDA-CaseStudy_and_PandasProfiling.ipynb\n",
      "23/02/2022  14:53            39,661 EDA-Practice Exercise Answers-1-1.ipynb\n",
      "11/04/2023  12:18           257,361 Endorsement.pdf\n",
      "01/04/2022  15:01           129,143 ENews_Express_Learner_Notebook%5BFull_Code_Version%5D.ipynb\n",
      "03/08/2022  15:07            11,162 Engineering+Colleges+Case+Study+-+Dataset.xlsx\n",
      "06/07/2023  09:43    <DIR>          FILING\n",
      "30/01/2022  12:42             6,529 flow_control.ipynb\n",
      "23/06/2023  22:37         2,455,456 Food Project.ipynb\n",
      "27/02/2022  13:11           123,933 foodhub_order.csv\n",
      "04/03/2022  12:14           974,208 Foodhub_project%28Full_Code%29.html\n",
      "03/04/2023  12:48           366,831 Foodhub_project%28Full_Code%29.ipynb\n",
      "19/01/2023  09:45            49,641 geocodedfoodfacilities-filtered-supermarkets-v2.csv\n",
      "12/07/2022  06:31            47,803 German_Credit (1).csv\n",
      "21/05/2022  10:43            61,771 German_Credit.csv\n",
      "22/04/2023  05:27        53,792,928 Git-2.40.0-64-bit.exe\n",
      "29/08/2022  13:07         2,075,280 Hackathon Model Turning 3.ipynb\n",
      "31/07/2022  05:44           264,946 Hackathon01.ipynb\n",
      "02/08/2022  11:14           158,375 Hackathon02.ipynb\n",
      "01/07/2023  22:29         1,496,813 Honey+Production+Case+Study.ipynb\n",
      "12/02/2022  07:55            40,620 honeyproduction1998-2016.csv\n",
      "30/01/2023  11:46        16,855,599 hotel_bookings.csv\n",
      "16/07/2023  13:07    <DIR>          HR_analytics_project\n",
      "17/07/2023  16:30            41,389 HR-Analytics.ipynb\n",
      "29/03/2023  14:31         1,157,934 IMG_0448.jpg\n",
      "06/07/2023  11:50            34,477 IMM5740_2-11UMSVGR (1).pdf\n",
      "03/07/2023  21:36            34,477 IMM5740_2-11UMSVGR.pdf\n",
      "24/04/2023  16:33            47,972 IMM5825_1-PEXDWC8.pdf\n",
      "27/05/2022  10:35         3,240,604 INNHotelsGroup.csv\n",
      "16/02/2022  23:38        16,937,599 innings_data.csv\n",
      "20/04/2023  11:25         1,471,478 Ins KYC Doc[1276].pdf\n",
      "11/04/2023  13:03           274,867 INSURANCE POLICY.pdf\n",
      "23/01/2023  18:21           649,898 INTL PPT.pdf\n",
      "14/01/2023  22:25            25,087 invoice-boost_premium_1-cars-34665424.pdf\n",
      "29/01/2022  09:11             4,009 iris.csv\n",
      "29/01/2022  09:32            31,503 Iris+-+Case+Study.ipynb\n",
      "25/03/2023  04:44        63,768,016 jetbrains-toolbox-1.27.3.14493.exe\n",
      "09/07/2022  02:14         1,961,145 jobs_data.csv\n",
      "27/04/2023  09:04           118,510 JOHN OKAFOR ENDST[1655].pdf\n",
      "28/04/2023  13:25           295,814 Kevin Cookie Company Financials.xlsx\n",
      "27/04/2023  09:04            81,731 KTU 817 DZ-MR JOHN OKAFOR[1656].pdf\n",
      "01/05/2022  09:00           198,100 laptop_price.csv\n",
      "02/05/2023  22:19             9,819 legal.pdf\n",
      "03/06/2022  09:03           333,433 Life+Expectancy+Data.csv\n",
      "31/03/2023  10:27           113,354 linkedin backdrop.jpg\n",
      "03/07/2022  12:43           558,776 Loan_Delinquent_Dataset (1).csv\n",
      "27/05/2022  02:43           558,776 Loan_Delinquent_Dataset.csv\n",
      "16/07/2022  00:57           257,009 marketing_data.xlsx\n",
      "20/06/2023  09:55         5,385,310 marriage packet.zip\n",
      "16/02/2022  23:37           173,805 match_data.csv\n",
      "12/03/2022  23:50            90,201 Medicon_dose_testing.ipynb\n",
      "18/02/2022  16:07         5,409,609 Melbourne_housing_FULL.csv\n",
      "18/04/2023  21:21           167,166 ML Application Form revise.pdf\n",
      "16/07/2022  13:39         1,014,288 MLS_Model_Tuning+-+standardized (1).ipynb\n",
      "02/08/2022  11:19           125,978 MLS2+-+standardized.ipynb\n",
      "17/07/2023  13:26           343,234 Money Order Receipt (1).pdf\n",
      "05/02/2022  08:11           117,040 movie.csv\n",
      "06/04/2022  10:07            86,957 MovieLens+Case+Study.ipynb\n",
      "22/07/2022  16:10         1,718,293 MT_Project_LearnerNotebook_FullCode.html\n",
      "31/03/2023  17:27           975,282 MT_Project_LearnerNotebook_FullCode.ipynb\n",
      "20/07/2022  08:25            47,207 MT_Project_LearnerNotebook_LowCode.ipynb\n",
      "02/05/2023  08:03            39,331 MUM INS.pdf\n",
      "28/01/2023  14:14       458,510,336 mysql-installer-community-8.0.32.0.msi\n",
      "01/05/2023  20:23           354,113 Nathaniel  Okafor LOB[2119].pdf\n",
      "16/02/2023  23:33           284,704 Nathaniel Okafor _ NDPITQL12B-G20230323 _ Enrollment Application _ .pdf\n",
      "16/01/2023  09:39           109,016 Nathaniel Okafor _ NDPITQL12B-G20230323 _ Program Specific Statement _ .pdf\n",
      "15/01/2023  02:06           271,666 Nathaniel Okafor.pdf\n",
      "15/01/2023  02:01            38,218 NATHANIEL_CHUKWUDIMEGWU_OKAFOR_Grade sheet.pdf\n",
      "23/01/2023  18:21           288,690 NNAMDI AZIKIWE UNIVERSITY AWKA.pdf\n",
      "09/03/2023  12:35         1,082,371 Non-Trad I-20 New Off-Campus Application 2022-2023.pdf\n",
      "13/06/2023  22:27             8,192 Northwind_small.sqlite\n",
      "11/03/2022  14:14           300,146 Notebook_Week1.ipynb\n",
      "05/02/2022  07:14            12,065 numpy_examples.ipynb\n",
      "23/01/2023  18:22           306,526 OBAFEMI AWOLOWO UNIVERSITY.pdf\n",
      "10/02/2022  13:17            12,203 outlier.PNG\n",
      "05/02/2022  04:06            15,996 pandas_example.ipynb\n",
      "10/06/2022  10:54            23,857 pima-indians-diabetes.csv\n",
      "13/07/2023  18:52         2,183,324 pivottablejs.html\n",
      "02/05/2023  07:58         2,069,318 Policy Declarations[2518].pdf\n",
      "22/03/2023  11:35        70,513,017 powershell-7.3.3-linux-alpine-x64.tar.gz\n",
      "16/07/2022  12:29           900,385 Practice_Excercise_Week2-+Standardized.ipynb\n",
      "28/03/2022  04:55             8,876 Practice_Exercise_Common_Statistical_Tests_Questions.ipynb\n",
      "25/03/2022  23:29            11,989 Practice_Exercise_Common_Statistical_Tests_Solutions.ipynb\n",
      "12/03/2022  23:56            13,095 Practice_Exercise_Inferential_Statistics_Questions.ipynb\n",
      "28/05/2022  07:58           405,583 Predictive_Maintenance_Case_Study.csv\n",
      "01/04/2022  15:09                 0 Project Business Statistics\n",
      "01/04/2022  15:10           714,865 Project Business Statistics_ E-news Express .html\n",
      "03/06/2022  16:02         1,765,619 Project_SLC_DSBA_INNHotels_FullCode.html\n",
      "31/03/2023  15:28         1,181,369 Project_SLC_DSBA_INNHotels_FullCode.ipynb\n",
      "10/06/2022  10:53         2,289,820 Project_SLC_DSBA_INNHotels_SolutionNotebook.ipynb\n",
      "02/09/2022  12:42            50,764 Purchasing.xlsx\n",
      "22/03/2023  11:55       513,038,728 pycharm-professional-2022.3.3.exe\n",
      "10/04/2023  13:05             8,835 Python Programs Assignments.ipynb\n",
      "05/02/2022  08:18         2,079,208 ratings.csv\n",
      "11/04/2023  12:20           112,373 RAV4 INSURANCE.pdf\n",
      "02/05/2023  08:01            39,419 RAV4 TRAVELERS INS.pdf\n",
      "19/01/2023  09:57       104,710,215 Real_Estate_Sales_2001-2020_GL.csv\n",
      "15/06/2022  02:35            50,488 RESUME (APR 2022).docx\n",
      "07/04/2023  16:00           199,430 RESUME (APR 2022).pdf\n",
      "15/01/2023  01:59           164,845 RESUME NATHANIEL 2023.pdf\n",
      "14/02/2023  12:23           151,998 RESUME NATHANIEL.pdf\n",
      "18/06/2023  21:47            59,144 Revision1.ipynb\n",
      "13/06/2023  18:22        29,431,808 SalesDB2014.bak\n",
      "15/07/2022  07:48         3,364,352 sample_-_superstore.xls\n",
      "10/09/2022  00:05           420,011 Sample_Submission.csv\n",
      "29/07/2022  13:21           468,233 Sample_Submission_(2).csv\n",
      "23/08/2022  11:55         3,359,744 Sample+-+Superstore.xls\n",
      "11/03/2022  14:02             9,428 sat_score.csv\n",
      "04/02/2022  08:56           395,977 Session_Notebook_Advanced.ipynb\n",
      "30/01/2022  12:40            30,475 Session_Notebook_Beginner.ipynb\n",
      "29/01/2022  00:10            30,158 Session_Notebook_Intermediate.ipynb\n",
      "03/06/2022  14:40         2,340,120 Session+Notebook+-+Machine_Failure_Prediction.ipynb\n",
      "12/06/2023  16:08           260,771 SIENNA INS.pdf\n",
      "10/02/2022  13:17             8,089 skeweness.png\n",
      "10/02/2022  13:17             7,293 skeweness_and_boxplots.png\n",
      "02/06/2022  14:19           607,746 SLC_DSBA(INN Hotels) Business Presentation.pdf\n",
      "03/06/2022  13:42         1,050,199 SLF_MLS2_LifeExpectancy.ipynb\n",
      "07/07/2023  23:19         5,736,786 SLF_MLS3_AnimeRatingPrediction.ipynb\n",
      "13/05/2022  16:36         1,966,480 SLF_Project_LearnerNotebook_FullCode.html\n",
      "30/05/2022  13:11         1,599,152 SLF_Project_LearnerNotebook_FullCode.ipynb\n",
      "07/05/2023  05:41         1,465,952 SLF_W1_PracticeExercise_Question.ipynb\n",
      "10/04/2022  05:44           666,407 SLF_W1_PracticeExercise_Solution.ipynb\n",
      "01/05/2022  09:10           578,444 SLF_W2_AdditionalCaseStudy_LaptopPrices.ipynb\n",
      "19/02/2022  02:11             4,405 Slump+Test.csv\n",
      "17/06/2023  23:09           356,388 solution_notebook_foodhub_project.ipynb\n",
      "31/07/2022  10:15         1,126,143 Solution+Notebook+-+ReneWind.ipynb\n",
      "17/04/2023  22:44           317,065 SQL Summary.jpeg\n",
      "17/04/2023  16:12         4,290,992 SQL2022-SSEI-Dev.exe\n",
      "17/04/2023  21:12       659,373,600 SSMS-Setup-ENU.exe\n",
      "04/08/2022  13:40            54,613 stock_data.csv\n",
      "27/03/2022  04:06             4,747 students.csv\n",
      "30/01/2023  12:30           131,528 supermarket_sales - Sheet1.csv\n",
      "15/07/2023  05:04             5,341 support.py\n",
      "14/01/2023  09:59       514,840,624 TableauPublicDesktop-64bit-2022-4-0.exe\n",
      "15/06/2023  23:12       543,041,432 TableauPublicDesktop-64bit-2023-2-0.exe\n",
      "03/08/2022  15:25        72,856,320 TCGA-PANCAN-HiSeq-801x20531.tar.gz\n",
      "10/09/2022  00:12        11,766,256 test.csv\n",
      "12/07/2022  10:45         2,493,767 Test.csv.csv\n",
      "29/07/2022  13:23         5,548,894 Test_set.csv\n",
      "05/05/2023  12:12         5,040,139 The Compound Effect (Darren Hardy).pdf\n",
      "22/02/2022  13:14            61,194 Titanic+Data+Set.csv\n",
      "23/08/2022  11:50         1,402,904 Trader Stores.xlsx\n",
      "10/09/2022  00:22        30,967,867 train.csv\n",
      "12/07/2022  10:45         9,974,818 Train.csv.csv\n",
      "12/05/2023  16:47       102,654,535 train_sample.csv\n",
      "29/07/2022  13:23        13,137,593 Train_set.csv\n",
      "02/05/2023  08:04            44,302 TRAVELERS INS CARDS.pdf\n",
      "02/05/2023  07:25            18,014 TRAVELERS INS.pdf\n",
      "02/05/2023  07:51         1,277,743 Travelers Property Casualty Insurance Company[2516].pdf\n",
      "02/05/2023  08:42       266,254,672 TrymataRecorder_windows-x64_1_1_2 (1).exe\n",
      "30/03/2023  19:17       266,254,672 TrymataRecorder_windows-x64_1_1_2.exe\n",
      "10/08/2022  06:47           932,259 t-SNE+Hands-on.ipynb\n",
      "13/06/2023  22:20        91,758,592 tutorial.db\n",
      "19/02/2022  07:40         2,075,599 uber.csv\n",
      "02/07/2023  15:55         2,375,816 Uber+Case+study.ipynb\n",
      "05/02/2022  08:10         2,079,208 udata.csv\n",
      "22/02/2023  13:16            27,906 University Appeal Template.pdf\n",
      "16/03/2023  10:54                 0 untitled\n",
      "18/05/2023  10:29            25,488 Untitled.ipynb\n",
      "24/06/2023  04:20                 0 untitled.txt\n",
      "23/02/2022  15:57           375,419 Untitled1.ipynb\n",
      "07/07/2023  10:32             5,494 Untitled2.ipynb\n",
      "17/06/2022  10:48            22,027 Untitled5.ipynb\n",
      "01/05/2022  06:30           358,513 used_device_data.csv\n",
      "05/02/2022  08:10            23,611 user.csv\n",
      "10/08/2022  09:06           538,845 USL_MLS1_EngineeringCollege.ipynb\n",
      "04/08/2022  12:07         1,323,741 USL_MLS2_TourismServices.ipynb\n",
      "12/08/2022  13:46         3,237,353 USL_Project_LearnerNotebook_FullCode+%282%29.html\n",
      "31/03/2023  16:25         2,618,608 USL_Project_LearnerNotebook_FullCode+%282%29.ipynb\n",
      "07/08/2022  05:00            35,878 USL_Project_LearnerNotebook_LowCode+%283%29.ipynb\n",
      "12/08/2022  12:02           866,070 USL_W1_AdditionalCaseStudy_ProductSegmentation.ipynb\n",
      "03/08/2022  15:13           827,207 USL_W2_AdditionalCaseStudy_GeneAnalysis.ipynb\n",
      "10/09/2022  10:12            45,219 Voksedigital.ipynb\n",
      "31/05/2023  16:41        92,718,208 VSCodeUserSetup-x64-1.78.2.exe\n",
      "11/07/2023  20:05           544,806 WES REPORT (1).pdf\n",
      "15/01/2023  01:59           544,806 WES REPORT.pdf\n",
      "23/06/2023  12:34        62,411,302 wfp_data.csv\n",
      "15/06/2023  23:23        37,388,367 wfp_data_1.xlsx\n",
      "27/05/2023  06:38         4,293,739 wfp_market_food_prices.csv.zip\n",
      "27/05/2023  22:04        87,194,874 wfp3.csv\n",
      "12/06/2023  15:10            58,497 WhatsApp Image 2023-06-12 at 15.09.49.jpeg\n",
      "18/06/2022  04:43       151,423,744 WhatsAppSetup.exe\n",
      "10/04/2023  09:49         7,077,120 WHMFQK.pdf\n",
      "22/02/2022  13:21           264,230 Wine_data.csv\n",
      "22/08/2022  11:14         1,993,955 World_Bank_CO2.xlsx\n",
      "23/01/2022  07:16           200,644 WOW Superstore.csv\n",
      "27/05/2023  20:59        17,104,896 wsl_update_x64.msi\n",
      "12/06/2023  15:10            33,478 Your Travelers Documents.pdf\n",
      "30/03/2023  11:36             2,550 zohomail.png\n",
      "27/02/2023  06:23           137,600 Zoom_cm_fr5ff4wswkZ9vvrZo4_mR-p4VlcA8gAyoO2yDJafhDQRALTfYobsPc8@bh9m9weCZynup+Ve_k8a8f455a8db7673b_.exe\n",
      "             235 File(s)  7,567,978,586 bytes\n",
      "               6 Dir(s)  382,048,227,328 bytes free\n"
     ]
    }
   ],
   "source": [
    "ls"
   ]
  },
  {
   "cell_type": "code",
   "execution_count": 3,
   "id": "4c0342a2",
   "metadata": {},
   "outputs": [
    {
     "name": "stderr",
     "output_type": "stream",
     "text": [
      "'cp' is not recognized as an internal or external command,\n",
      "operable program or batch file.\n"
     ]
    }
   ],
   "source": [
    "cp HR-Analytics.ipynb \"/http://localhost:8888/tree/Downloads/HR_analytics_project/\""
   ]
  },
  {
   "cell_type": "code",
   "execution_count": 7,
   "id": "bfceec0f",
   "metadata": {},
   "outputs": [
    {
     "data": {
      "text/plain": [
       "'C:\\\\Users\\\\Nathaniel\\\\Downloads\\\\HR_analytics_project'"
      ]
     },
     "execution_count": 7,
     "metadata": {},
     "output_type": "execute_result"
    }
   ],
   "source": [
    "pwd"
   ]
  },
  {
   "cell_type": "code",
   "execution_count": 9,
   "id": "0813de9e",
   "metadata": {},
   "outputs": [
    {
     "name": "stdout",
     "output_type": "stream",
     "text": [
      " Volume in drive C has no label.\n",
      " Volume Serial Number is 280C-2769\n",
      "\n",
      " Directory of C:\\Users\\Nathaniel\\Downloads\\HR_analytics_project\n",
      "\n",
      "17/07/2023  17:24    <DIR>          .\n",
      "17/07/2023  16:52    <DIR>          ..\n",
      "17/07/2023  16:56    <DIR>          .ipynb_checkpoints\n",
      "17/07/2023  17:03    <DIR>          __pycache__\n",
      "17/07/2023  17:24            59,570 HR-Analytics.ipynb\n",
      "17/07/2023  16:56             5,178 support.py\n",
      "16/07/2023  13:07               781 Untitled.ipynb\n",
      "               3 File(s)         65,529 bytes\n",
      "               4 Dir(s)  382,411,390,976 bytes free\n"
     ]
    }
   ],
   "source": [
    "ls"
   ]
  },
  {
   "cell_type": "code",
   "execution_count": 10,
   "id": "717af5bd",
   "metadata": {},
   "outputs": [
    {
     "ename": "SyntaxError",
     "evalue": "invalid syntax (4094667560.py, line 1)",
     "output_type": "error",
     "traceback": [
      "\u001b[1;36m  File \u001b[1;32m\"C:\\Users\\Nathaniel\\AppData\\Local\\Temp\\ipykernel_20912\\4094667560.py\"\u001b[1;36m, line \u001b[1;32m1\u001b[0m\n\u001b[1;33m    cp HR-Analytics.ipynb \"\\Users\\Nathaniel\\PycharmProjects\\HR_Recruitment_Analysis\\\"\u001b[0m\n\u001b[1;37m       ^\u001b[0m\n\u001b[1;31mSyntaxError\u001b[0m\u001b[1;31m:\u001b[0m invalid syntax\n"
     ]
    }
   ],
   "source": [
    "cp HR-Analytics.ipynb \"/Users/Nathaniel/PycharmProjects\\HR_Recruitment_Analysis\\\""
   ]
  },
  {
   "cell_type": "code",
   "execution_count": null,
   "id": "1a75ebbc",
   "metadata": {},
   "outputs": [],
   "source": []
  }
 ],
 "metadata": {
  "kernelspec": {
   "display_name": "Python 3 (ipykernel)",
   "language": "python",
   "name": "python3"
  },
  "language_info": {
   "codemirror_mode": {
    "name": "ipython",
    "version": 3
   },
   "file_extension": ".py",
   "mimetype": "text/x-python",
   "name": "python",
   "nbconvert_exporter": "python",
   "pygments_lexer": "ipython3",
   "version": "3.9.13"
  }
 },
 "nbformat": 4,
 "nbformat_minor": 5
}
